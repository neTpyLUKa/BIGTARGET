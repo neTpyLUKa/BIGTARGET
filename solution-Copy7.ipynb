{
 "cells": [
  {
   "cell_type": "code",
   "execution_count": 1,
   "metadata": {},
   "outputs": [],
   "source": [
    "import gc\n",
    "import pandas as pd\n",
    "import numpy as np\n",
    "from datetime import datetime\n",
    "\n",
    "from xgboost import XGBClassifier\n",
    "from sklift.models import ClassTransformation\n",
    "\n",
    "from sklift.metrics import uplift_at_k\n",
    "import matplotlib.pyplot as plt\n",
    "import catboost as cb\n",
    "from catboost import CatBoostClassifier, Pool\n",
    "from sklearn.metrics import accuracy_score\n",
    "from sklearn.model_selection import train_test_split\n",
    "import optuna\n",
    "import pandas as pd\n",
    "from pandas import read_csv\n",
    "\n",
    "%matplotlib inline"
   ]
  },
  {
   "cell_type": "code",
   "execution_count": 3,
   "metadata": {},
   "outputs": [
    {
     "data": {
      "text/html": [
       "<div>\n",
       "<style scoped>\n",
       "    .dataframe tbody tr th:only-of-type {\n",
       "        vertical-align: middle;\n",
       "    }\n",
       "\n",
       "    .dataframe tbody tr th {\n",
       "        vertical-align: top;\n",
       "    }\n",
       "\n",
       "    .dataframe thead th {\n",
       "        text-align: right;\n",
       "    }\n",
       "</style>\n",
       "<table border=\"1\" class=\"dataframe\">\n",
       "  <thead>\n",
       "    <tr style=\"text-align: right;\">\n",
       "      <th></th>\n",
       "      <th>group</th>\n",
       "      <th>response_att</th>\n",
       "      <th>perdelta_days_between_visits_15_30d</th>\n",
       "      <th>k_var_days_between_visits_1m</th>\n",
       "      <th>k_var_days_between_visits_3m</th>\n",
       "      <th>k_var_days_between_visits_15d</th>\n",
       "      <th>cheque_count_6m_g48</th>\n",
       "      <th>response_sms</th>\n",
       "      <th>response_viber</th>\n",
       "    </tr>\n",
       "  </thead>\n",
       "  <tbody>\n",
       "    <tr>\n",
       "      <th>0</th>\n",
       "      <td>1</td>\n",
       "      <td>0</td>\n",
       "      <td>1.3393</td>\n",
       "      <td>0.6479</td>\n",
       "      <td>0.8240</td>\n",
       "      <td>0.4554</td>\n",
       "      <td>6.0</td>\n",
       "      <td>0.923077</td>\n",
       "      <td>0.071429</td>\n",
       "    </tr>\n",
       "    <tr>\n",
       "      <th>1</th>\n",
       "      <td>1</td>\n",
       "      <td>0</td>\n",
       "      <td>0.0000</td>\n",
       "      <td>0.0000</td>\n",
       "      <td>1.0027</td>\n",
       "      <td>0.0000</td>\n",
       "      <td>1.0</td>\n",
       "      <td>1.000000</td>\n",
       "      <td>0.000000</td>\n",
       "    </tr>\n",
       "    <tr>\n",
       "      <th>2</th>\n",
       "      <td>0</td>\n",
       "      <td>0</td>\n",
       "      <td>0.0000</td>\n",
       "      <td>0.0000</td>\n",
       "      <td>0.5559</td>\n",
       "      <td>0.0000</td>\n",
       "      <td>6.0</td>\n",
       "      <td>1.000000</td>\n",
       "      <td>0.250000</td>\n",
       "    </tr>\n",
       "    <tr>\n",
       "      <th>3</th>\n",
       "      <td>1</td>\n",
       "      <td>0</td>\n",
       "      <td>0.0000</td>\n",
       "      <td>0.0000</td>\n",
       "      <td>0.7432</td>\n",
       "      <td>0.0000</td>\n",
       "      <td>3.0</td>\n",
       "      <td>0.909091</td>\n",
       "      <td>0.000000</td>\n",
       "    </tr>\n",
       "    <tr>\n",
       "      <th>4</th>\n",
       "      <td>1</td>\n",
       "      <td>0</td>\n",
       "      <td>0.0000</td>\n",
       "      <td>0.4714</td>\n",
       "      <td>0.9980</td>\n",
       "      <td>0.4714</td>\n",
       "      <td>4.0</td>\n",
       "      <td>1.000000</td>\n",
       "      <td>0.100000</td>\n",
       "    </tr>\n",
       "  </tbody>\n",
       "</table>\n",
       "</div>"
      ],
      "text/plain": [
       "   group  response_att  perdelta_days_between_visits_15_30d  \\\n",
       "0      1             0                               1.3393   \n",
       "1      1             0                               0.0000   \n",
       "2      0             0                               0.0000   \n",
       "3      1             0                               0.0000   \n",
       "4      1             0                               0.0000   \n",
       "\n",
       "   k_var_days_between_visits_1m  k_var_days_between_visits_3m  \\\n",
       "0                        0.6479                        0.8240   \n",
       "1                        0.0000                        1.0027   \n",
       "2                        0.0000                        0.5559   \n",
       "3                        0.0000                        0.7432   \n",
       "4                        0.4714                        0.9980   \n",
       "\n",
       "   k_var_days_between_visits_15d  cheque_count_6m_g48  response_sms  \\\n",
       "0                         0.4554                  6.0      0.923077   \n",
       "1                         0.0000                  1.0      1.000000   \n",
       "2                         0.0000                  6.0      1.000000   \n",
       "3                         0.0000                  3.0      0.909091   \n",
       "4                         0.4714                  4.0      1.000000   \n",
       "\n",
       "   response_viber  \n",
       "0        0.071429  \n",
       "1        0.000000  \n",
       "2        0.250000  \n",
       "3        0.000000  \n",
       "4        0.100000  "
      ]
     },
     "execution_count": 3,
     "metadata": {},
     "output_type": "execute_result"
    }
   ],
   "source": [
    "data = read_csv('dataset.csv')\n",
    "y = data['response_att']\n",
    "X = data.copy()\n",
    "\n",
    "features_list = ['group', 'response_att',\n",
    " 'perdelta_days_between_visits_15_30d',\n",
    " 'k_var_days_between_visits_1m',\n",
    " 'k_var_days_between_visits_3m',\n",
    " 'k_var_days_between_visits_15d',\n",
    " 'cheque_count_6m_g48',\n",
    " 'response_sms',\n",
    " 'response_viber'\n",
    "]\n",
    "\n",
    "X = X.filter(features_list)\n",
    "pd.set_option('display.max_columns', 500)\n",
    "X.head(5)"
   ]
  },
  {
   "cell_type": "code",
   "execution_count": 4,
   "metadata": {},
   "outputs": [],
   "source": [
    "X_train, X_test, y_train, y_test = train_test_split(X, y, test_size=0.3, random_state=10)"
   ]
  },
  {
   "cell_type": "code",
   "execution_count": 5,
   "metadata": {},
   "outputs": [
    {
     "name": "stdout",
     "output_type": "stream",
     "text": [
      "You are currently using version 1.5.0 of the Azure ML SDK\n",
      "\n",
      "Workspace name: team19\n"
     ]
    }
   ],
   "source": [
    "import azureml.core\n",
    "from azureml.core.authentication import InteractiveLoginAuthentication\n",
    "from azureml.core import Experiment, Workspace\n",
    "\n",
    "# Check core SDK version number\n",
    "print(\"You are currently using version\", azureml.core.VERSION, \"of the Azure ML SDK\")\n",
    "print(\"\")\n",
    "\n",
    "# Log In to Azure ML Workspace\n",
    "interactive_auth = InteractiveLoginAuthentication(tenant_id=\"76f90eb1-fb9a-4446-9875-4d323d6455ad\")\n",
    "\n",
    "ws = Workspace.from_config(auth=interactive_auth)\n",
    "print('Workspace name: ' + ws.name, sep='\\n')"
   ]
  },
  {
   "cell_type": "code",
   "execution_count": 6,
   "metadata": {},
   "outputs": [],
   "source": [
    "def custom_metric(answers, take_top_ratio=0.25):\n",
    "    answers.sort_values(by='uplift', inplace=True, ascending=False)\n",
    "    \n",
    "    n_samples = int(np.ceil(answers.shape[0] * take_top_ratio))\n",
    "    answers = answers.iloc[:n_samples, :]\n",
    "    answers_test = answers[answers['group'] == 1]['response_att'].sum() / \\\n",
    "                   answers[answers['group'] == 1].shape[0]\n",
    "    answers_control = answers[answers['group'] == 0]['response_att'].sum() / \\\n",
    "                      answers[answers['group'] == 0].shape[0]\n",
    "    return (answers_test - answers_control) * 100"
   ]
  },
  {
   "cell_type": "code",
   "execution_count": null,
   "metadata": {},
   "outputs": [],
   "source": [
    "# Get an experiment object from Azure Machine Learning"
   ]
  },
  {
   "cell_type": "code",
   "execution_count": null,
   "metadata": {},
   "outputs": [],
   "source": [
    "#i = 0"
   ]
  },
  {
   "cell_type": "code",
   "execution_count": 10,
   "metadata": {},
   "outputs": [
    {
     "name": "stdout",
     "output_type": "stream",
     "text": [
      "lr 0.21\n",
      "depth 2\n",
      "n_estimators 25\n",
      "seed 7538\n"
     ]
    },
    {
     "name": "stderr",
     "output_type": "stream",
     "text": [
      "/anaconda/envs/azureml_py36_automl/lib/python3.6/site-packages/ipykernel_launcher.py:55: UserWarning:\n",
      "\n",
      "It is recommended to use this approach on treatment balanced data. Current sample size is unbalanced.\n",
      "\n"
     ]
    },
    {
     "name": "stdout",
     "output_type": "stream",
     "text": [
      "Submit data shape: (206109, 1)\n",
      "\n",
      "score  6.2775684180707305\n",
      "lr 0.21\n",
      "depth 2\n",
      "n_estimators 30\n",
      "seed 1879\n"
     ]
    },
    {
     "name": "stderr",
     "output_type": "stream",
     "text": [
      "/anaconda/envs/azureml_py36_automl/lib/python3.6/site-packages/ipykernel_launcher.py:55: UserWarning:\n",
      "\n",
      "It is recommended to use this approach on treatment balanced data. Current sample size is unbalanced.\n",
      "\n"
     ]
    },
    {
     "name": "stdout",
     "output_type": "stream",
     "text": [
      "Submit data shape: (206109, 1)\n",
      "\n",
      "score  6.295756646765765\n",
      "lr 0.21\n",
      "depth 2\n",
      "n_estimators 35\n",
      "seed 5788\n"
     ]
    },
    {
     "name": "stderr",
     "output_type": "stream",
     "text": [
      "/anaconda/envs/azureml_py36_automl/lib/python3.6/site-packages/ipykernel_launcher.py:55: UserWarning:\n",
      "\n",
      "It is recommended to use this approach on treatment balanced data. Current sample size is unbalanced.\n",
      "\n"
     ]
    },
    {
     "name": "stdout",
     "output_type": "stream",
     "text": [
      "Submit data shape: (206109, 1)\n",
      "\n",
      "score  6.333309993954394\n",
      "lr 0.21\n",
      "depth 2\n",
      "n_estimators 40\n",
      "seed 5374\n"
     ]
    },
    {
     "name": "stderr",
     "output_type": "stream",
     "text": [
      "/anaconda/envs/azureml_py36_automl/lib/python3.6/site-packages/ipykernel_launcher.py:55: UserWarning:\n",
      "\n",
      "It is recommended to use this approach on treatment balanced data. Current sample size is unbalanced.\n",
      "\n"
     ]
    },
    {
     "name": "stdout",
     "output_type": "stream",
     "text": [
      "Submit data shape: (206109, 1)\n",
      "\n",
      "score  6.355778946639534\n",
      "lr 0.21\n",
      "depth 2\n",
      "n_estimators 45\n",
      "seed 9213\n"
     ]
    },
    {
     "name": "stderr",
     "output_type": "stream",
     "text": [
      "/anaconda/envs/azureml_py36_automl/lib/python3.6/site-packages/ipykernel_launcher.py:55: UserWarning:\n",
      "\n",
      "It is recommended to use this approach on treatment balanced data. Current sample size is unbalanced.\n",
      "\n"
     ]
    },
    {
     "name": "stdout",
     "output_type": "stream",
     "text": [
      "Submit data shape: (206109, 1)\n",
      "\n",
      "score  6.368567824667254\n",
      "lr 0.21\n",
      "depth 2\n",
      "n_estimators 50\n",
      "seed 3682\n"
     ]
    },
    {
     "name": "stderr",
     "output_type": "stream",
     "text": [
      "/anaconda/envs/azureml_py36_automl/lib/python3.6/site-packages/ipykernel_launcher.py:55: UserWarning:\n",
      "\n",
      "It is recommended to use this approach on treatment balanced data. Current sample size is unbalanced.\n",
      "\n"
     ]
    },
    {
     "name": "stdout",
     "output_type": "stream",
     "text": [
      "Submit data shape: (206109, 1)\n",
      "\n",
      "score  6.355111949853079\n",
      "lr 0.21\n",
      "depth 2\n",
      "n_estimators 55\n",
      "seed 3146\n"
     ]
    },
    {
     "name": "stderr",
     "output_type": "stream",
     "text": [
      "/anaconda/envs/azureml_py36_automl/lib/python3.6/site-packages/ipykernel_launcher.py:55: UserWarning:\n",
      "\n",
      "It is recommended to use this approach on treatment balanced data. Current sample size is unbalanced.\n",
      "\n"
     ]
    },
    {
     "name": "stdout",
     "output_type": "stream",
     "text": [
      "Submit data shape: (206109, 1)\n",
      "\n",
      "score  6.374623418188436\n",
      "lr 0.21\n",
      "depth 2\n",
      "n_estimators 60\n",
      "seed 3340\n"
     ]
    },
    {
     "name": "stderr",
     "output_type": "stream",
     "text": [
      "/anaconda/envs/azureml_py36_automl/lib/python3.6/site-packages/ipykernel_launcher.py:55: UserWarning:\n",
      "\n",
      "It is recommended to use this approach on treatment balanced data. Current sample size is unbalanced.\n",
      "\n"
     ]
    },
    {
     "name": "stdout",
     "output_type": "stream",
     "text": [
      "Submit data shape: (206109, 1)\n",
      "\n",
      "score  6.369763714971049\n",
      "lr 0.21\n",
      "depth 2\n",
      "n_estimators 65\n",
      "seed 8510\n"
     ]
    },
    {
     "name": "stderr",
     "output_type": "stream",
     "text": [
      "/anaconda/envs/azureml_py36_automl/lib/python3.6/site-packages/ipykernel_launcher.py:55: UserWarning:\n",
      "\n",
      "It is recommended to use this approach on treatment balanced data. Current sample size is unbalanced.\n",
      "\n"
     ]
    },
    {
     "name": "stdout",
     "output_type": "stream",
     "text": [
      "Submit data shape: (206109, 1)\n",
      "\n",
      "score  6.41592497242009\n",
      "lr 0.21\n",
      "depth 2\n",
      "n_estimators 70\n",
      "seed 7725\n"
     ]
    },
    {
     "name": "stderr",
     "output_type": "stream",
     "text": [
      "/anaconda/envs/azureml_py36_automl/lib/python3.6/site-packages/ipykernel_launcher.py:55: UserWarning:\n",
      "\n",
      "It is recommended to use this approach on treatment balanced data. Current sample size is unbalanced.\n",
      "\n"
     ]
    },
    {
     "name": "stdout",
     "output_type": "stream",
     "text": [
      "Submit data shape: (206109, 1)\n",
      "\n",
      "score  6.416613967682617\n",
      "lr 0.21\n",
      "depth 2\n",
      "n_estimators 75\n",
      "seed 9366\n"
     ]
    },
    {
     "name": "stderr",
     "output_type": "stream",
     "text": [
      "/anaconda/envs/azureml_py36_automl/lib/python3.6/site-packages/ipykernel_launcher.py:55: UserWarning:\n",
      "\n",
      "It is recommended to use this approach on treatment balanced data. Current sample size is unbalanced.\n",
      "\n"
     ]
    },
    {
     "name": "stdout",
     "output_type": "stream",
     "text": [
      "Submit data shape: (206109, 1)\n",
      "\n",
      "score  6.437748779826599\n",
      "lr 0.21\n",
      "depth 2\n",
      "n_estimators 80\n",
      "seed 6038\n"
     ]
    },
    {
     "name": "stderr",
     "output_type": "stream",
     "text": [
      "/anaconda/envs/azureml_py36_automl/lib/python3.6/site-packages/ipykernel_launcher.py:55: UserWarning:\n",
      "\n",
      "It is recommended to use this approach on treatment balanced data. Current sample size is unbalanced.\n",
      "\n"
     ]
    },
    {
     "name": "stdout",
     "output_type": "stream",
     "text": [
      "Submit data shape: (206109, 1)\n",
      "\n",
      "score  6.405400979763384\n",
      "lr 0.21\n",
      "depth 2\n",
      "n_estimators 85\n",
      "seed 3985\n"
     ]
    },
    {
     "name": "stderr",
     "output_type": "stream",
     "text": [
      "/anaconda/envs/azureml_py36_automl/lib/python3.6/site-packages/ipykernel_launcher.py:55: UserWarning:\n",
      "\n",
      "It is recommended to use this approach on treatment balanced data. Current sample size is unbalanced.\n",
      "\n"
     ]
    },
    {
     "name": "stdout",
     "output_type": "stream",
     "text": [
      "Submit data shape: (206109, 1)\n",
      "\n",
      "score  6.393136486716367\n",
      "lr 0.21\n",
      "depth 2\n",
      "n_estimators 90\n",
      "seed 9148\n"
     ]
    },
    {
     "name": "stderr",
     "output_type": "stream",
     "text": [
      "/anaconda/envs/azureml_py36_automl/lib/python3.6/site-packages/ipykernel_launcher.py:55: UserWarning:\n",
      "\n",
      "It is recommended to use this approach on treatment balanced data. Current sample size is unbalanced.\n",
      "\n"
     ]
    },
    {
     "name": "stdout",
     "output_type": "stream",
     "text": [
      "Submit data shape: (206109, 1)\n",
      "\n",
      "score  6.369084264945904\n",
      "lr 0.21\n",
      "depth 2\n",
      "n_estimators 95\n",
      "seed 4096\n"
     ]
    },
    {
     "name": "stderr",
     "output_type": "stream",
     "text": [
      "/anaconda/envs/azureml_py36_automl/lib/python3.6/site-packages/ipykernel_launcher.py:55: UserWarning:\n",
      "\n",
      "It is recommended to use this approach on treatment balanced data. Current sample size is unbalanced.\n",
      "\n"
     ]
    },
    {
     "name": "stdout",
     "output_type": "stream",
     "text": [
      "Submit data shape: (206109, 1)\n",
      "\n",
      "score  6.332651603214876\n",
      "lr 0.21\n",
      "depth 2\n",
      "n_estimators 100\n",
      "seed 5201\n"
     ]
    },
    {
     "name": "stderr",
     "output_type": "stream",
     "text": [
      "/anaconda/envs/azureml_py36_automl/lib/python3.6/site-packages/ipykernel_launcher.py:55: UserWarning:\n",
      "\n",
      "It is recommended to use this approach on treatment balanced data. Current sample size is unbalanced.\n",
      "\n"
     ]
    },
    {
     "name": "stdout",
     "output_type": "stream",
     "text": [
      "Submit data shape: (206109, 1)\n",
      "\n",
      "score  6.298090962433308\n",
      "lr 0.21\n",
      "depth 2\n",
      "n_estimators 105\n",
      "seed 6105\n"
     ]
    },
    {
     "name": "stderr",
     "output_type": "stream",
     "text": [
      "/anaconda/envs/azureml_py36_automl/lib/python3.6/site-packages/ipykernel_launcher.py:55: UserWarning:\n",
      "\n",
      "It is recommended to use this approach on treatment balanced data. Current sample size is unbalanced.\n",
      "\n"
     ]
    },
    {
     "name": "stdout",
     "output_type": "stream",
     "text": [
      "Submit data shape: (206109, 1)\n",
      "\n",
      "score  6.31565301638852\n",
      "lr 0.21\n",
      "depth 2\n",
      "n_estimators 110\n",
      "seed 2642\n"
     ]
    },
    {
     "name": "stderr",
     "output_type": "stream",
     "text": [
      "/anaconda/envs/azureml_py36_automl/lib/python3.6/site-packages/ipykernel_launcher.py:55: UserWarning:\n",
      "\n",
      "It is recommended to use this approach on treatment balanced data. Current sample size is unbalanced.\n",
      "\n"
     ]
    },
    {
     "name": "stdout",
     "output_type": "stream",
     "text": [
      "Submit data shape: (206109, 1)\n",
      "\n",
      "score  6.310720966959743\n",
      "lr 0.21\n",
      "depth 2\n",
      "n_estimators 115\n",
      "seed 7297\n"
     ]
    },
    {
     "name": "stderr",
     "output_type": "stream",
     "text": [
      "/anaconda/envs/azureml_py36_automl/lib/python3.6/site-packages/ipykernel_launcher.py:55: UserWarning:\n",
      "\n",
      "It is recommended to use this approach on treatment balanced data. Current sample size is unbalanced.\n",
      "\n"
     ]
    },
    {
     "name": "stdout",
     "output_type": "stream",
     "text": [
      "Submit data shape: (206109, 1)\n",
      "\n",
      "score  6.325512368335906\n",
      "lr 0.21\n",
      "depth 2\n",
      "n_estimators 120\n",
      "seed 5325\n"
     ]
    },
    {
     "name": "stderr",
     "output_type": "stream",
     "text": [
      "/anaconda/envs/azureml_py36_automl/lib/python3.6/site-packages/ipykernel_launcher.py:55: UserWarning:\n",
      "\n",
      "It is recommended to use this approach on treatment balanced data. Current sample size is unbalanced.\n",
      "\n"
     ]
    },
    {
     "name": "stdout",
     "output_type": "stream",
     "text": [
      "Submit data shape: (206109, 1)\n",
      "\n",
      "score  6.32889914481071\n",
      "lr 0.21\n",
      "depth 2\n",
      "n_estimators 125\n",
      "seed 9012\n"
     ]
    },
    {
     "name": "stderr",
     "output_type": "stream",
     "text": [
      "/anaconda/envs/azureml_py36_automl/lib/python3.6/site-packages/ipykernel_launcher.py:55: UserWarning:\n",
      "\n",
      "It is recommended to use this approach on treatment balanced data. Current sample size is unbalanced.\n",
      "\n"
     ]
    },
    {
     "name": "stdout",
     "output_type": "stream",
     "text": [
      "Submit data shape: (206109, 1)\n",
      "\n",
      "score  6.345182375175687\n",
      "lr 0.21\n",
      "depth 2\n",
      "n_estimators 130\n",
      "seed 5720\n"
     ]
    },
    {
     "name": "stderr",
     "output_type": "stream",
     "text": [
      "/anaconda/envs/azureml_py36_automl/lib/python3.6/site-packages/ipykernel_launcher.py:55: UserWarning:\n",
      "\n",
      "It is recommended to use this approach on treatment balanced data. Current sample size is unbalanced.\n",
      "\n"
     ]
    },
    {
     "name": "stdout",
     "output_type": "stream",
     "text": [
      "Submit data shape: (206109, 1)\n",
      "\n",
      "score  6.341388310090731\n",
      "lr 0.21\n",
      "depth 2\n",
      "n_estimators 135\n",
      "seed 6824\n"
     ]
    },
    {
     "name": "stderr",
     "output_type": "stream",
     "text": [
      "/anaconda/envs/azureml_py36_automl/lib/python3.6/site-packages/ipykernel_launcher.py:55: UserWarning:\n",
      "\n",
      "It is recommended to use this approach on treatment balanced data. Current sample size is unbalanced.\n",
      "\n"
     ]
    },
    {
     "name": "stdout",
     "output_type": "stream",
     "text": [
      "Submit data shape: (206109, 1)\n",
      "\n",
      "score  6.344309995958916\n",
      "lr 0.21\n",
      "depth 2\n",
      "n_estimators 140\n",
      "seed 5678\n"
     ]
    },
    {
     "name": "stderr",
     "output_type": "stream",
     "text": [
      "/anaconda/envs/azureml_py36_automl/lib/python3.6/site-packages/ipykernel_launcher.py:55: UserWarning:\n",
      "\n",
      "It is recommended to use this approach on treatment balanced data. Current sample size is unbalanced.\n",
      "\n"
     ]
    },
    {
     "name": "stdout",
     "output_type": "stream",
     "text": [
      "Submit data shape: (206109, 1)\n",
      "\n",
      "score  6.348443889332186\n",
      "lr 0.21\n",
      "depth 2\n",
      "n_estimators 145\n",
      "seed 2171\n"
     ]
    },
    {
     "name": "stderr",
     "output_type": "stream",
     "text": [
      "/anaconda/envs/azureml_py36_automl/lib/python3.6/site-packages/ipykernel_launcher.py:55: UserWarning:\n",
      "\n",
      "It is recommended to use this approach on treatment balanced data. Current sample size is unbalanced.\n",
      "\n"
     ]
    },
    {
     "name": "stdout",
     "output_type": "stream",
     "text": [
      "Submit data shape: (206109, 1)\n",
      "\n",
      "score  6.374118016493046\n",
      "lr 0.21\n",
      "depth 2\n",
      "n_estimators 150\n",
      "seed 496\n"
     ]
    },
    {
     "name": "stderr",
     "output_type": "stream",
     "text": [
      "/anaconda/envs/azureml_py36_automl/lib/python3.6/site-packages/ipykernel_launcher.py:55: UserWarning:\n",
      "\n",
      "It is recommended to use this approach on treatment balanced data. Current sample size is unbalanced.\n",
      "\n"
     ]
    },
    {
     "name": "stdout",
     "output_type": "stream",
     "text": [
      "Submit data shape: (206109, 1)\n",
      "\n",
      "score  6.345758286611764\n",
      "lr 0.21\n",
      "depth 2\n",
      "n_estimators 155\n",
      "seed 6873\n"
     ]
    },
    {
     "name": "stderr",
     "output_type": "stream",
     "text": [
      "/anaconda/envs/azureml_py36_automl/lib/python3.6/site-packages/ipykernel_launcher.py:55: UserWarning:\n",
      "\n",
      "It is recommended to use this approach on treatment balanced data. Current sample size is unbalanced.\n",
      "\n"
     ]
    },
    {
     "name": "stdout",
     "output_type": "stream",
     "text": [
      "Submit data shape: (206109, 1)\n",
      "\n",
      "score  6.334675805244183\n",
      "lr 0.21\n",
      "depth 2\n",
      "n_estimators 160\n",
      "seed 7009\n"
     ]
    },
    {
     "name": "stderr",
     "output_type": "stream",
     "text": [
      "/anaconda/envs/azureml_py36_automl/lib/python3.6/site-packages/ipykernel_launcher.py:55: UserWarning:\n",
      "\n",
      "It is recommended to use this approach on treatment balanced data. Current sample size is unbalanced.\n",
      "\n"
     ]
    },
    {
     "name": "stdout",
     "output_type": "stream",
     "text": [
      "Submit data shape: (206109, 1)\n",
      "\n",
      "score  6.333381020856982\n",
      "lr 0.21\n",
      "depth 2\n",
      "n_estimators 165\n",
      "seed 1365\n"
     ]
    },
    {
     "name": "stderr",
     "output_type": "stream",
     "text": [
      "/anaconda/envs/azureml_py36_automl/lib/python3.6/site-packages/ipykernel_launcher.py:55: UserWarning:\n",
      "\n",
      "It is recommended to use this approach on treatment balanced data. Current sample size is unbalanced.\n",
      "\n"
     ]
    },
    {
     "name": "stdout",
     "output_type": "stream",
     "text": [
      "Submit data shape: (206109, 1)\n",
      "\n",
      "score  6.321160180432534\n",
      "lr 0.21\n",
      "depth 2\n",
      "n_estimators 170\n",
      "seed 4552\n"
     ]
    },
    {
     "name": "stderr",
     "output_type": "stream",
     "text": [
      "/anaconda/envs/azureml_py36_automl/lib/python3.6/site-packages/ipykernel_launcher.py:55: UserWarning:\n",
      "\n",
      "It is recommended to use this approach on treatment balanced data. Current sample size is unbalanced.\n",
      "\n"
     ]
    },
    {
     "name": "stdout",
     "output_type": "stream",
     "text": [
      "Submit data shape: (206109, 1)\n",
      "\n",
      "score  6.291628230502619\n",
      "lr 0.21\n",
      "depth 2\n",
      "n_estimators 175\n",
      "seed 4914\n"
     ]
    },
    {
     "name": "stderr",
     "output_type": "stream",
     "text": [
      "/anaconda/envs/azureml_py36_automl/lib/python3.6/site-packages/ipykernel_launcher.py:55: UserWarning:\n",
      "\n",
      "It is recommended to use this approach on treatment balanced data. Current sample size is unbalanced.\n",
      "\n"
     ]
    },
    {
     "name": "stdout",
     "output_type": "stream",
     "text": [
      "Submit data shape: (206109, 1)\n",
      "\n",
      "score  6.257843199068125\n",
      "lr 0.21\n",
      "depth 2\n",
      "n_estimators 180\n",
      "seed 4098\n"
     ]
    },
    {
     "name": "stderr",
     "output_type": "stream",
     "text": [
      "/anaconda/envs/azureml_py36_automl/lib/python3.6/site-packages/ipykernel_launcher.py:55: UserWarning:\n",
      "\n",
      "It is recommended to use this approach on treatment balanced data. Current sample size is unbalanced.\n",
      "\n"
     ]
    },
    {
     "name": "stdout",
     "output_type": "stream",
     "text": [
      "Submit data shape: (206109, 1)\n",
      "\n",
      "score  6.269659257705992\n",
      "lr 0.21\n",
      "depth 2\n",
      "n_estimators 185\n",
      "seed 4722\n"
     ]
    },
    {
     "name": "stderr",
     "output_type": "stream",
     "text": [
      "/anaconda/envs/azureml_py36_automl/lib/python3.6/site-packages/ipykernel_launcher.py:55: UserWarning:\n",
      "\n",
      "It is recommended to use this approach on treatment balanced data. Current sample size is unbalanced.\n",
      "\n"
     ]
    },
    {
     "name": "stdout",
     "output_type": "stream",
     "text": [
      "Submit data shape: (206109, 1)\n",
      "\n",
      "score  6.289743099492378\n",
      "lr 0.21\n",
      "depth 2\n",
      "n_estimators 190\n",
      "seed 9010\n"
     ]
    },
    {
     "name": "stderr",
     "output_type": "stream",
     "text": [
      "/anaconda/envs/azureml_py36_automl/lib/python3.6/site-packages/ipykernel_launcher.py:55: UserWarning:\n",
      "\n",
      "It is recommended to use this approach on treatment balanced data. Current sample size is unbalanced.\n",
      "\n"
     ]
    },
    {
     "name": "stdout",
     "output_type": "stream",
     "text": [
      "Submit data shape: (206109, 1)\n",
      "\n",
      "score  6.294080362299787\n",
      "lr 0.21\n",
      "depth 2\n",
      "n_estimators 195\n",
      "seed 1342\n"
     ]
    },
    {
     "name": "stderr",
     "output_type": "stream",
     "text": [
      "/anaconda/envs/azureml_py36_automl/lib/python3.6/site-packages/ipykernel_launcher.py:55: UserWarning:\n",
      "\n",
      "It is recommended to use this approach on treatment balanced data. Current sample size is unbalanced.\n",
      "\n"
     ]
    },
    {
     "name": "stdout",
     "output_type": "stream",
     "text": [
      "Submit data shape: (206109, 1)\n",
      "\n",
      "score  6.2934462985490995\n"
     ]
    }
   ],
   "source": [
    "import numpy as np\n",
    "from tqdm import tqdm\n",
    "import joblib\n",
    "import matplotlib.pyplot as plt\n",
    "import seaborn as sns\n",
    "\n",
    "%matplotlib inline\n",
    "from random import randrange\n",
    "\n",
    "# list of numbers from 0 to 1.0 with a 0.05 interval\n",
    "lrs = list(np.arange(0.21, 0.25, 1))\n",
    "depth = list(np.arange(2, 3, 1))\n",
    "estimators = list(np.arange(25, 200, 5))\n",
    "\n",
    "# try a bunch of alpha values in a Linear Regression (Ridge) model\n",
    "experiment = Experiment(workspace=ws, name=\"7-features\")\n",
    "\n",
    "max_score = 0\n",
    "\n",
    "for max_depth in depth:\n",
    "    for n_estimators in estimators:\n",
    "        for lr in lrs:\n",
    "            print('lr', lr)\n",
    "            print('depth', max_depth)\n",
    "            print('n_estimators', n_estimators)\n",
    "            seed = randrange(10000)\n",
    "            print('seed', seed)\n",
    "            \n",
    "            with experiment.start_logging(snapshot_directory=None) as run:\n",
    "                run.log(name='lr', value=lr)\n",
    "                run.log(name='depth', value=max_depth)\n",
    "                run.log(name='n_estimators', value=n_estimators)\n",
    "\n",
    "                xgb_est_params = {\n",
    "                    'max_depth':max_depth,\n",
    "                    'learning_rate': lr, \n",
    "                    'n_estimators': n_estimators,\n",
    "                    'nthread':64,\n",
    "                    'n_gpus':1,\n",
    "                    'seed': seed\n",
    "                }\n",
    "\n",
    "                estimator = XGBClassifier(\n",
    "                    **xgb_est_params\n",
    "                )\n",
    "\n",
    "\n",
    "                uplift_model_cl_tr = ClassTransformation(\n",
    "                    estimator=estimator\n",
    "                )\n",
    "\n",
    "                uplift_model_cl_tr.fit(\n",
    "                    X=X_train.drop(columns=['group', 'response_att']),\n",
    "                    y=X_train['response_att'],\n",
    "                    treatment=X_train['group']\n",
    "                )\n",
    "\n",
    "                uplift_ts = uplift_model_cl_tr.predict(\n",
    "                    X_test.drop(columns=['group', 'response_att'])\n",
    "                )\n",
    "\n",
    "                df_submit = X_test.assign(uplift=uplift_ts)[['uplift']]\n",
    "\n",
    "                print(f'Submit data shape: {df_submit.shape}\\n')\n",
    "                df_submit.head(2)\n",
    "\n",
    "                df_submit['group'] = X_test['group']\n",
    "                df_submit['response_att'] = X_test['response_att']\n",
    "                score = custom_metric(df_submit)\n",
    "                print('score ', score)\n",
    "                run.log(name='score', value=score)\n",
    "                \n",
    "                if score > max_score:\n",
    "                    max_score = score\n",
    "                    run.tag(\"Best cur\")\n",
    "\n",
    "             #   x = []\n",
    "              #  answers = []\n",
    "               # num = 100\n",
    "              #  for i in range(20, num + 1):\n",
    "               #     x.append(1.0 * i / num)\n",
    "                #    answers.append(custom_metric(df_submit, take_top_ratio=1.0 * i/ num))\n",
    "\n",
    "              #  plt.plot(x, answers)\n",
    "              #  run.log_image(name=\"Score plot\", plot=plt)\n",
    "              #  plt.show()\n",
    "        \n",
    "        #joblib.dump(value=uplift_model_cl_tr, filename='outputs/model' + str(i) + '.pkl')\n",
    "        #i += 1"
   ]
  },
  {
   "cell_type": "code",
   "execution_count": 11,
   "metadata": {},
   "outputs": [
    {
     "name": "stderr",
     "output_type": "stream",
     "text": [
      "22it [00:05,  4.05it/s]\n"
     ]
    },
    {
     "name": "stdout",
     "output_type": "stream",
     "text": [
      "Best run is: fb524d86-f5f6-4a3d-a3cb-4e8d66e11f6a\n",
      "Metrics: {'lr': 0.2, 'score': 6.087121555088201}\n"
     ]
    }
   ],
   "source": [
    "runs = {}\n",
    "run_metrics = {}\n",
    "\n",
    "# Create dictionaries containing the runs and the metrics for all runs containing the 'mse' metric\n",
    "for r in tqdm(experiment.get_runs()):\n",
    "    metrics = r.get_metrics()\n",
    "    if 'score' in metrics.keys():\n",
    "        runs[r.id] = r\n",
    "        run_metrics[r.id] = metrics\n",
    "\n",
    "# Find the run with the best (lowest) mean squared error and display the id and metrics\n",
    "best_run_id = max(run_metrics, key = lambda k: run_metrics[k]['score'])\n",
    "best_run = runs[best_run_id]\n",
    "print('Best run is:', best_run_id)\n",
    "print('Metrics:', run_metrics[best_run_id])\n",
    "\n",
    "# Tag the best run for identification later\n",
    "best_run.tag(\"Best Run\")"
   ]
  }
 ],
 "metadata": {
  "kernelspec": {
   "display_name": "azureml_py36_automl",
   "language": "python",
   "name": "conda-env-azureml_py36_automl-py"
  },
  "language_info": {
   "codemirror_mode": {
    "name": "ipython",
    "version": 3
   },
   "file_extension": ".py",
   "mimetype": "text/x-python",
   "name": "python",
   "nbconvert_exporter": "python",
   "pygments_lexer": "ipython3",
   "version": "3.6.9"
  }
 },
 "nbformat": 4,
 "nbformat_minor": 2
}
