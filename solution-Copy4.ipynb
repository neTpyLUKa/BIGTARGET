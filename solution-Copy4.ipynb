{
 "cells": [
  {
   "cell_type": "code",
   "execution_count": 3,
   "metadata": {},
   "outputs": [],
   "source": [
    "import gc\n",
    "import pandas as pd\n",
    "import numpy as np\n",
    "from datetime import datetime\n",
    "\n",
    "from xgboost import XGBClassifier\n",
    "from sklift.models import ClassTransformation\n",
    "\n",
    "from sklift.metrics import uplift_at_k\n",
    "import matplotlib.pyplot as plt\n",
    "import catboost as cb\n",
    "from catboost import CatBoostClassifier, Pool\n",
    "from sklearn.metrics import accuracy_score\n",
    "from sklearn.model_selection import train_test_split\n",
    "import optuna\n",
    "import pandas as pd\n",
    "from pandas import read_csv\n",
    "\n",
    "%matplotlib inline"
   ]
  },
  {
   "cell_type": "code",
   "execution_count": 4,
   "metadata": {},
   "outputs": [
    {
     "data": {
      "text/html": [
       "<div>\n",
       "<style scoped>\n",
       "    .dataframe tbody tr th:only-of-type {\n",
       "        vertical-align: middle;\n",
       "    }\n",
       "\n",
       "    .dataframe tbody tr th {\n",
       "        vertical-align: top;\n",
       "    }\n",
       "\n",
       "    .dataframe thead th {\n",
       "        text-align: right;\n",
       "    }\n",
       "</style>\n",
       "<table border=\"1\" class=\"dataframe\">\n",
       "  <thead>\n",
       "    <tr style=\"text-align: right;\">\n",
       "      <th></th>\n",
       "      <th>group</th>\n",
       "      <th>response_att</th>\n",
       "      <th>perdelta_days_between_visits_15_30d</th>\n",
       "      <th>k_var_days_between_visits_1m</th>\n",
       "      <th>k_var_days_between_visits_3m</th>\n",
       "      <th>k_var_days_between_visits_15d</th>\n",
       "      <th>cheque_count_6m_g48</th>\n",
       "      <th>response_sms</th>\n",
       "      <th>cheque_count_6m_g40</th>\n",
       "      <th>k_var_count_per_cheque_6m_g27</th>\n",
       "      <th>k_var_disc_share_6m_g27</th>\n",
       "      <th>response_viber</th>\n",
       "      <th>k_var_discount_depth_1m</th>\n",
       "      <th>k_var_sku_price_6m_g48</th>\n",
       "      <th>cheque_count_6m_g25</th>\n",
       "      <th>cheque_count_12m_g41</th>\n",
       "      <th>cheque_count_6m_g41</th>\n",
       "    </tr>\n",
       "  </thead>\n",
       "  <tbody>\n",
       "    <tr>\n",
       "      <th>0</th>\n",
       "      <td>1</td>\n",
       "      <td>0</td>\n",
       "      <td>1.3393</td>\n",
       "      <td>0.6479</td>\n",
       "      <td>0.8240</td>\n",
       "      <td>0.4554</td>\n",
       "      <td>6.0</td>\n",
       "      <td>0.923077</td>\n",
       "      <td>5.0</td>\n",
       "      <td>0.4845</td>\n",
       "      <td>0.6366</td>\n",
       "      <td>0.071429</td>\n",
       "      <td>0.4864</td>\n",
       "      <td>0.6718</td>\n",
       "      <td>9.0</td>\n",
       "      <td>6.0</td>\n",
       "      <td>1.0</td>\n",
       "    </tr>\n",
       "    <tr>\n",
       "      <th>1</th>\n",
       "      <td>1</td>\n",
       "      <td>0</td>\n",
       "      <td>0.0000</td>\n",
       "      <td>0.0000</td>\n",
       "      <td>1.0027</td>\n",
       "      <td>0.0000</td>\n",
       "      <td>1.0</td>\n",
       "      <td>1.000000</td>\n",
       "      <td>3.0</td>\n",
       "      <td>0.0000</td>\n",
       "      <td>0.0000</td>\n",
       "      <td>0.000000</td>\n",
       "      <td>0.0000</td>\n",
       "      <td>0.0000</td>\n",
       "      <td>2.0</td>\n",
       "      <td>1.0</td>\n",
       "      <td>1.0</td>\n",
       "    </tr>\n",
       "    <tr>\n",
       "      <th>2</th>\n",
       "      <td>0</td>\n",
       "      <td>0</td>\n",
       "      <td>0.0000</td>\n",
       "      <td>0.0000</td>\n",
       "      <td>0.5559</td>\n",
       "      <td>0.0000</td>\n",
       "      <td>6.0</td>\n",
       "      <td>1.000000</td>\n",
       "      <td>7.0</td>\n",
       "      <td>0.5762</td>\n",
       "      <td>0.8560</td>\n",
       "      <td>0.250000</td>\n",
       "      <td>0.1201</td>\n",
       "      <td>0.2407</td>\n",
       "      <td>9.0</td>\n",
       "      <td>14.0</td>\n",
       "      <td>8.0</td>\n",
       "    </tr>\n",
       "    <tr>\n",
       "      <th>3</th>\n",
       "      <td>1</td>\n",
       "      <td>0</td>\n",
       "      <td>0.0000</td>\n",
       "      <td>0.0000</td>\n",
       "      <td>0.7432</td>\n",
       "      <td>0.0000</td>\n",
       "      <td>3.0</td>\n",
       "      <td>0.909091</td>\n",
       "      <td>4.0</td>\n",
       "      <td>0.3295</td>\n",
       "      <td>0.5780</td>\n",
       "      <td>0.000000</td>\n",
       "      <td>0.0000</td>\n",
       "      <td>0.1028</td>\n",
       "      <td>11.0</td>\n",
       "      <td>8.0</td>\n",
       "      <td>2.0</td>\n",
       "    </tr>\n",
       "    <tr>\n",
       "      <th>4</th>\n",
       "      <td>1</td>\n",
       "      <td>0</td>\n",
       "      <td>0.0000</td>\n",
       "      <td>0.4714</td>\n",
       "      <td>0.9980</td>\n",
       "      <td>0.4714</td>\n",
       "      <td>4.0</td>\n",
       "      <td>1.000000</td>\n",
       "      <td>8.0</td>\n",
       "      <td>0.7526</td>\n",
       "      <td>0.9058</td>\n",
       "      <td>0.100000</td>\n",
       "      <td>0.4903</td>\n",
       "      <td>0.2195</td>\n",
       "      <td>2.0</td>\n",
       "      <td>3.0</td>\n",
       "      <td>2.0</td>\n",
       "    </tr>\n",
       "  </tbody>\n",
       "</table>\n",
       "</div>"
      ],
      "text/plain": [
       "   group  response_att  perdelta_days_between_visits_15_30d  \\\n",
       "0      1             0                               1.3393   \n",
       "1      1             0                               0.0000   \n",
       "2      0             0                               0.0000   \n",
       "3      1             0                               0.0000   \n",
       "4      1             0                               0.0000   \n",
       "\n",
       "   k_var_days_between_visits_1m  k_var_days_between_visits_3m  \\\n",
       "0                        0.6479                        0.8240   \n",
       "1                        0.0000                        1.0027   \n",
       "2                        0.0000                        0.5559   \n",
       "3                        0.0000                        0.7432   \n",
       "4                        0.4714                        0.9980   \n",
       "\n",
       "   k_var_days_between_visits_15d  cheque_count_6m_g48  response_sms  \\\n",
       "0                         0.4554                  6.0      0.923077   \n",
       "1                         0.0000                  1.0      1.000000   \n",
       "2                         0.0000                  6.0      1.000000   \n",
       "3                         0.0000                  3.0      0.909091   \n",
       "4                         0.4714                  4.0      1.000000   \n",
       "\n",
       "   cheque_count_6m_g40  k_var_count_per_cheque_6m_g27  \\\n",
       "0                  5.0                         0.4845   \n",
       "1                  3.0                         0.0000   \n",
       "2                  7.0                         0.5762   \n",
       "3                  4.0                         0.3295   \n",
       "4                  8.0                         0.7526   \n",
       "\n",
       "   k_var_disc_share_6m_g27  response_viber  k_var_discount_depth_1m  \\\n",
       "0                   0.6366        0.071429                   0.4864   \n",
       "1                   0.0000        0.000000                   0.0000   \n",
       "2                   0.8560        0.250000                   0.1201   \n",
       "3                   0.5780        0.000000                   0.0000   \n",
       "4                   0.9058        0.100000                   0.4903   \n",
       "\n",
       "   k_var_sku_price_6m_g48  cheque_count_6m_g25  cheque_count_12m_g41  \\\n",
       "0                  0.6718                  9.0                   6.0   \n",
       "1                  0.0000                  2.0                   1.0   \n",
       "2                  0.2407                  9.0                  14.0   \n",
       "3                  0.1028                 11.0                   8.0   \n",
       "4                  0.2195                  2.0                   3.0   \n",
       "\n",
       "   cheque_count_6m_g41  \n",
       "0                  1.0  \n",
       "1                  1.0  \n",
       "2                  8.0  \n",
       "3                  2.0  \n",
       "4                  2.0  "
      ]
     },
     "execution_count": 4,
     "metadata": {},
     "output_type": "execute_result"
    }
   ],
   "source": [
    "data = read_csv('dataset.csv')\n",
    "y = data['response_att']\n",
    "X = data.copy()\n",
    "\n",
    "features_list = ['group', 'response_att',\n",
    " 'perdelta_days_between_visits_15_30d',\n",
    " 'k_var_days_between_visits_1m',\n",
    " 'k_var_days_between_visits_3m',\n",
    " 'k_var_days_between_visits_15d',\n",
    " 'cheque_count_6m_g48',\n",
    " 'response_sms',\n",
    " 'cheque_count_6m_g40',\n",
    " 'k_var_count_per_cheque_6m_g27',\n",
    " 'k_var_disc_share_6m_g27',\n",
    " 'response_viber',\n",
    " 'k_var_discount_depth_1m',\n",
    " 'k_var_sku_price_6m_g48',\n",
    " 'cheque_count_6m_g25',\n",
    " 'cheque_count_12m_g41',\n",
    " 'cheque_count_6m_g41']\n",
    "\n",
    "X = X.filter(features_list)\n",
    "pd.set_option('display.max_columns', 500)\n",
    "X.head(5)"
   ]
  },
  {
   "cell_type": "code",
   "execution_count": 5,
   "metadata": {},
   "outputs": [],
   "source": [
    "X_train, X_test, y_train, y_test = train_test_split(X, y, test_size=0.3, random_state=10)"
   ]
  },
  {
   "cell_type": "code",
   "execution_count": 6,
   "metadata": {},
   "outputs": [
    {
     "name": "stdout",
     "output_type": "stream",
     "text": [
      "You are currently using version 1.5.0 of the Azure ML SDK\n",
      "\n",
      "Workspace name: team19\n"
     ]
    }
   ],
   "source": [
    "import azureml.core\n",
    "from azureml.core.authentication import InteractiveLoginAuthentication\n",
    "from azureml.core import Experiment, Workspace\n",
    "\n",
    "# Check core SDK version number\n",
    "print(\"You are currently using version\", azureml.core.VERSION, \"of the Azure ML SDK\")\n",
    "print(\"\")\n",
    "\n",
    "# Log In to Azure ML Workspace\n",
    "interactive_auth = InteractiveLoginAuthentication(tenant_id=\"76f90eb1-fb9a-4446-9875-4d323d6455ad\")\n",
    "\n",
    "ws = Workspace.from_config(auth=interactive_auth)\n",
    "print('Workspace name: ' + ws.name, sep='\\n')"
   ]
  },
  {
   "cell_type": "code",
   "execution_count": 7,
   "metadata": {},
   "outputs": [],
   "source": [
    "def custom_metric(answers, take_top_ratio=0.25):\n",
    "    answers.sort_values(by='uplift', inplace=True, ascending=False)\n",
    "    \n",
    "    n_samples = int(np.ceil(answers.shape[0] * take_top_ratio))\n",
    "    answers = answers.iloc[:n_samples, :]\n",
    "    answers_test = answers[answers['group'] == 1]['response_att'].sum() / \\\n",
    "                   answers[answers['group'] == 1].shape[0]\n",
    "    answers_control = answers[answers['group'] == 0]['response_att'].sum() / \\\n",
    "                      answers[answers['group'] == 0].shape[0]\n",
    "    return (answers_test - answers_control) * 100"
   ]
  },
  {
   "cell_type": "code",
   "execution_count": 8,
   "metadata": {},
   "outputs": [],
   "source": [
    "# Get an experiment object from Azure Machine Learning"
   ]
  },
  {
   "cell_type": "code",
   "execution_count": 9,
   "metadata": {},
   "outputs": [],
   "source": [
    "#i = 0"
   ]
  },
  {
   "cell_type": "code",
   "execution_count": 29,
   "metadata": {},
   "outputs": [
    {
     "name": "stdout",
     "output_type": "stream",
     "text": [
      "lr 0.169\n",
      "depth 5\n",
      "n_estimators 57\n",
      "seed 5008\n"
     ]
    },
    {
     "name": "stderr",
     "output_type": "stream",
     "text": [
      "/anaconda/envs/azureml_py36_automl/lib/python3.6/site-packages/ipykernel_launcher.py:56: UserWarning:\n",
      "\n",
      "It is recommended to use this approach on treatment balanced data. Current sample size is unbalanced.\n",
      "\n"
     ]
    },
    {
     "name": "stdout",
     "output_type": "stream",
     "text": [
      "Submit data shape: (206109, 1)\n",
      "\n",
      "score  6.291440871616369\n",
      "lr 0.17\n",
      "depth 5\n",
      "n_estimators 57\n",
      "seed 9231\n"
     ]
    },
    {
     "name": "stderr",
     "output_type": "stream",
     "text": [
      "/anaconda/envs/azureml_py36_automl/lib/python3.6/site-packages/ipykernel_launcher.py:56: UserWarning:\n",
      "\n",
      "It is recommended to use this approach on treatment balanced data. Current sample size is unbalanced.\n",
      "\n"
     ]
    },
    {
     "name": "stdout",
     "output_type": "stream",
     "text": [
      "Submit data shape: (206109, 1)\n",
      "\n",
      "score  6.232487566798015\n",
      "lr 0.171\n",
      "depth 5\n",
      "n_estimators 57\n",
      "seed 9578\n"
     ]
    },
    {
     "name": "stderr",
     "output_type": "stream",
     "text": [
      "/anaconda/envs/azureml_py36_automl/lib/python3.6/site-packages/ipykernel_launcher.py:56: UserWarning:\n",
      "\n",
      "It is recommended to use this approach on treatment balanced data. Current sample size is unbalanced.\n",
      "\n"
     ]
    },
    {
     "name": "stdout",
     "output_type": "stream",
     "text": [
      "Submit data shape: (206109, 1)\n",
      "\n",
      "score  6.241373961972929\n",
      "lr 0.169\n",
      "depth 5\n",
      "n_estimators 58\n",
      "seed 8845\n"
     ]
    },
    {
     "name": "stderr",
     "output_type": "stream",
     "text": [
      "/anaconda/envs/azureml_py36_automl/lib/python3.6/site-packages/ipykernel_launcher.py:56: UserWarning:\n",
      "\n",
      "It is recommended to use this approach on treatment balanced data. Current sample size is unbalanced.\n",
      "\n"
     ]
    },
    {
     "name": "stdout",
     "output_type": "stream",
     "text": [
      "Submit data shape: (206109, 1)\n",
      "\n",
      "score  6.291440871616369\n",
      "lr 0.17\n",
      "depth 5\n",
      "n_estimators 58\n",
      "seed 4865\n"
     ]
    },
    {
     "name": "stderr",
     "output_type": "stream",
     "text": [
      "/anaconda/envs/azureml_py36_automl/lib/python3.6/site-packages/ipykernel_launcher.py:56: UserWarning:\n",
      "\n",
      "It is recommended to use this approach on treatment balanced data. Current sample size is unbalanced.\n",
      "\n"
     ]
    },
    {
     "name": "stdout",
     "output_type": "stream",
     "text": [
      "Submit data shape: (206109, 1)\n",
      "\n",
      "score  6.250983628535517\n",
      "lr 0.171\n",
      "depth 5\n",
      "n_estimators 58\n",
      "seed 825\n"
     ]
    },
    {
     "name": "stderr",
     "output_type": "stream",
     "text": [
      "/anaconda/envs/azureml_py36_automl/lib/python3.6/site-packages/ipykernel_launcher.py:56: UserWarning:\n",
      "\n",
      "It is recommended to use this approach on treatment balanced data. Current sample size is unbalanced.\n",
      "\n"
     ]
    },
    {
     "name": "stdout",
     "output_type": "stream",
     "text": [
      "Submit data shape: (206109, 1)\n",
      "\n",
      "score  6.247141166347594\n",
      "lr 0.169\n",
      "depth 5\n",
      "n_estimators 59\n",
      "seed 7273\n"
     ]
    },
    {
     "name": "stderr",
     "output_type": "stream",
     "text": [
      "/anaconda/envs/azureml_py36_automl/lib/python3.6/site-packages/ipykernel_launcher.py:56: UserWarning:\n",
      "\n",
      "It is recommended to use this approach on treatment balanced data. Current sample size is unbalanced.\n",
      "\n"
     ]
    },
    {
     "name": "stdout",
     "output_type": "stream",
     "text": [
      "Submit data shape: (206109, 1)\n",
      "\n",
      "score  6.298851238600256\n",
      "lr 0.17\n",
      "depth 5\n",
      "n_estimators 59\n",
      "seed 1335\n"
     ]
    },
    {
     "name": "stderr",
     "output_type": "stream",
     "text": [
      "/anaconda/envs/azureml_py36_automl/lib/python3.6/site-packages/ipykernel_launcher.py:56: UserWarning:\n",
      "\n",
      "It is recommended to use this approach on treatment balanced data. Current sample size is unbalanced.\n",
      "\n"
     ]
    },
    {
     "name": "stdout",
     "output_type": "stream",
     "text": [
      "Submit data shape: (206109, 1)\n",
      "\n",
      "score  6.244762371313414\n",
      "lr 0.171\n",
      "depth 5\n",
      "n_estimators 59\n",
      "seed 5195\n"
     ]
    },
    {
     "name": "stderr",
     "output_type": "stream",
     "text": [
      "/anaconda/envs/azureml_py36_automl/lib/python3.6/site-packages/ipykernel_launcher.py:56: UserWarning:\n",
      "\n",
      "It is recommended to use this approach on treatment balanced data. Current sample size is unbalanced.\n",
      "\n"
     ]
    },
    {
     "name": "stdout",
     "output_type": "stream",
     "text": [
      "Submit data shape: (206109, 1)\n",
      "\n",
      "score  6.23189230406489\n",
      "lr 0.169\n",
      "depth 5\n",
      "n_estimators 60\n",
      "seed 3913\n"
     ]
    },
    {
     "name": "stderr",
     "output_type": "stream",
     "text": [
      "/anaconda/envs/azureml_py36_automl/lib/python3.6/site-packages/ipykernel_launcher.py:56: UserWarning:\n",
      "\n",
      "It is recommended to use this approach on treatment balanced data. Current sample size is unbalanced.\n",
      "\n"
     ]
    },
    {
     "name": "stdout",
     "output_type": "stream",
     "text": [
      "Submit data shape: (206109, 1)\n",
      "\n",
      "score  6.298610305493882\n",
      "lr 0.17\n",
      "depth 5\n",
      "n_estimators 60\n",
      "seed 3116\n"
     ]
    },
    {
     "name": "stderr",
     "output_type": "stream",
     "text": [
      "/anaconda/envs/azureml_py36_automl/lib/python3.6/site-packages/ipykernel_launcher.py:56: UserWarning:\n",
      "\n",
      "It is recommended to use this approach on treatment balanced data. Current sample size is unbalanced.\n",
      "\n"
     ]
    },
    {
     "name": "stdout",
     "output_type": "stream",
     "text": [
      "Submit data shape: (206109, 1)\n",
      "\n",
      "score  6.204577068310016\n",
      "lr 0.171\n",
      "depth 5\n",
      "n_estimators 60\n",
      "seed 8401\n"
     ]
    },
    {
     "name": "stderr",
     "output_type": "stream",
     "text": [
      "/anaconda/envs/azureml_py36_automl/lib/python3.6/site-packages/ipykernel_launcher.py:56: UserWarning:\n",
      "\n",
      "It is recommended to use this approach on treatment balanced data. Current sample size is unbalanced.\n",
      "\n"
     ]
    },
    {
     "name": "stdout",
     "output_type": "stream",
     "text": [
      "Submit data shape: (206109, 1)\n",
      "\n",
      "score  6.289123183248818\n",
      "lr 0.169\n",
      "depth 5\n",
      "n_estimators 61\n",
      "seed 2995\n"
     ]
    },
    {
     "name": "stderr",
     "output_type": "stream",
     "text": [
      "/anaconda/envs/azureml_py36_automl/lib/python3.6/site-packages/ipykernel_launcher.py:56: UserWarning:\n",
      "\n",
      "It is recommended to use this approach on treatment balanced data. Current sample size is unbalanced.\n",
      "\n"
     ]
    },
    {
     "name": "stdout",
     "output_type": "stream",
     "text": [
      "Submit data shape: (206109, 1)\n",
      "\n",
      "score  6.296284134886621\n",
      "lr 0.17\n",
      "depth 5\n",
      "n_estimators 61\n",
      "seed 7443\n"
     ]
    },
    {
     "name": "stderr",
     "output_type": "stream",
     "text": [
      "/anaconda/envs/azureml_py36_automl/lib/python3.6/site-packages/ipykernel_launcher.py:56: UserWarning:\n",
      "\n",
      "It is recommended to use this approach on treatment balanced data. Current sample size is unbalanced.\n",
      "\n"
     ]
    },
    {
     "name": "stdout",
     "output_type": "stream",
     "text": [
      "Submit data shape: (206109, 1)\n",
      "\n",
      "score  6.210119383889465\n",
      "lr 0.171\n",
      "depth 5\n",
      "n_estimators 61\n",
      "seed 6590\n"
     ]
    },
    {
     "name": "stderr",
     "output_type": "stream",
     "text": [
      "/anaconda/envs/azureml_py36_automl/lib/python3.6/site-packages/ipykernel_launcher.py:56: UserWarning:\n",
      "\n",
      "It is recommended to use this approach on treatment balanced data. Current sample size is unbalanced.\n",
      "\n"
     ]
    },
    {
     "name": "stdout",
     "output_type": "stream",
     "text": [
      "Submit data shape: (206109, 1)\n",
      "\n",
      "score  6.291165442424656\n",
      "lr 0.169\n",
      "depth 5\n",
      "n_estimators 62\n",
      "seed 9395\n"
     ]
    },
    {
     "name": "stderr",
     "output_type": "stream",
     "text": [
      "/anaconda/envs/azureml_py36_automl/lib/python3.6/site-packages/ipykernel_launcher.py:56: UserWarning:\n",
      "\n",
      "It is recommended to use this approach on treatment balanced data. Current sample size is unbalanced.\n",
      "\n"
     ]
    },
    {
     "name": "stdout",
     "output_type": "stream",
     "text": [
      "Submit data shape: (206109, 1)\n",
      "\n",
      "score  6.2361684313893555\n",
      "lr 0.17\n",
      "depth 5\n",
      "n_estimators 62\n",
      "seed 9420\n"
     ]
    },
    {
     "name": "stderr",
     "output_type": "stream",
     "text": [
      "/anaconda/envs/azureml_py36_automl/lib/python3.6/site-packages/ipykernel_launcher.py:56: UserWarning:\n",
      "\n",
      "It is recommended to use this approach on treatment balanced data. Current sample size is unbalanced.\n",
      "\n"
     ]
    },
    {
     "name": "stdout",
     "output_type": "stream",
     "text": [
      "Submit data shape: (206109, 1)\n",
      "\n",
      "score  6.272788311599617\n",
      "lr 0.171\n",
      "depth 5\n",
      "n_estimators 62\n",
      "seed 3225\n"
     ]
    },
    {
     "name": "stderr",
     "output_type": "stream",
     "text": [
      "/anaconda/envs/azureml_py36_automl/lib/python3.6/site-packages/ipykernel_launcher.py:56: UserWarning:\n",
      "\n",
      "It is recommended to use this approach on treatment balanced data. Current sample size is unbalanced.\n",
      "\n"
     ]
    },
    {
     "name": "stdout",
     "output_type": "stream",
     "text": [
      "Submit data shape: (206109, 1)\n",
      "\n",
      "score  6.284941055177814\n"
     ]
    }
   ],
   "source": [
    "import numpy as np\n",
    "from tqdm import tqdm\n",
    "import joblib\n",
    "import matplotlib.pyplot as plt\n",
    "import seaborn as sns\n",
    "from random import randrange\n",
    "\n",
    "\n",
    "%matplotlib inline\n",
    "\n",
    "\n",
    "# list of numbers from 0 to 1.0 with a 0.05 interval\n",
    "lrs = list(np.arange(0.169, 0.171, 0.001))\n",
    "depth = list(np.arange(5, 6, 1))\n",
    "estimators = list(np.arange(57, 63, 1))\n",
    "\n",
    "# try a bunch of alpha values in a Linear Regression (Ridge) model\n",
    "experiment = Experiment(workspace=ws, name=\"random_try\")\n",
    "\n",
    "max_score = 0\n",
    "\n",
    "for max_depth in depth:\n",
    "    for n_estimators in estimators:\n",
    "        for lr in lrs:\n",
    "            print('lr', lr)\n",
    "            print('depth', max_depth)\n",
    "            print('n_estimators', n_estimators)\n",
    "            seed = randrange(10000)\n",
    "            print('seed', seed)\n",
    "            with experiment.start_logging(snapshot_directory=None) as run:\n",
    "                run.log(name='lr', value=lr)\n",
    "                run.log(name='depth', value=max_depth)\n",
    "                run.log(name='n_estimators', value=n_estimators)\n",
    "\n",
    "                xgb_est_params = {\n",
    "                    'max_depth':max_depth,\n",
    "                    'learning_rate': lr, \n",
    "                    'n_estimators': n_estimators,\n",
    "                    'nthread':64,\n",
    "                    'n_gpus':1,\n",
    "                    'seed':seed\n",
    "                }\n",
    "\n",
    "                estimator = XGBClassifier(\n",
    "                    **xgb_est_params\n",
    "                )\n",
    "\n",
    "\n",
    "                uplift_model_cl_tr = ClassTransformation(\n",
    "                    estimator=estimator\n",
    "                )\n",
    "\n",
    "                uplift_model_cl_tr.fit(\n",
    "                    X=X_train.drop(columns=['group', 'response_att']),\n",
    "                    y=X_train['response_att'],\n",
    "                    treatment=X_train['group']\n",
    "                )\n",
    "\n",
    "                uplift_ts = uplift_model_cl_tr.predict(\n",
    "                    X_test.drop(columns=['group', 'response_att'])\n",
    "                )\n",
    "\n",
    "                df_submit = X_test.assign(uplift=uplift_ts)[['uplift']]\n",
    "\n",
    "                print(f'Submit data shape: {df_submit.shape}\\n')\n",
    "                df_submit.head(2)\n",
    "\n",
    "                df_submit['group'] = X_test['group']\n",
    "                df_submit['response_att'] = X_test['response_att']\n",
    "                score = custom_metric(df_submit)\n",
    "                print('score ', score)\n",
    "                run.log(name='score', value=score)\n",
    "                \n",
    "                if score > max_score:\n",
    "                    max_score = score\n",
    "                    run.tag(\"Best cur\")\n",
    "\n",
    "#                 x = []\n",
    "#                 answers = []\n",
    "#                 num = 100\n",
    "#                 for i in range(20, num + 1):\n",
    "#                     x.append(1.0 * i / num)\n",
    "#                     answers.append(custom_metric(df_submit, take_top_ratio=1.0 * i/ num))\n",
    "\n",
    "#                 plt.plot(x, answers)\n",
    "#                 run.log_image(name=\"Score plot\", plot=plt)\n",
    "#                 plt.show()\n",
    "        \n",
    "        #joblib.dump(value=uplift_model_cl_tr, filename='outputs/model' + str(i) + '.pkl')\n",
    "        #i += 1"
   ]
  },
  {
   "cell_type": "code",
   "execution_count": 11,
   "metadata": {},
   "outputs": [
    {
     "name": "stderr",
     "output_type": "stream",
     "text": [
      "22it [00:05,  4.05it/s]\n"
     ]
    },
    {
     "name": "stdout",
     "output_type": "stream",
     "text": [
      "Best run is: fb524d86-f5f6-4a3d-a3cb-4e8d66e11f6a\n",
      "Metrics: {'lr': 0.2, 'score': 6.087121555088201}\n"
     ]
    }
   ],
   "source": [
    "runs = {}\n",
    "run_metrics = {}\n",
    "\n",
    "# Create dictionaries containing the runs and the metrics for all runs containing the 'mse' metric\n",
    "for r in tqdm(experiment.get_runs()):\n",
    "    metrics = r.get_metrics()\n",
    "    if 'score' in metrics.keys():\n",
    "        runs[r.id] = r\n",
    "        run_metrics[r.id] = metrics\n",
    "\n",
    "# Find the run with the best (lowest) mean squared error and display the id and metrics\n",
    "best_run_id = max(run_metrics, key = lambda k: run_metrics[k]['score'])\n",
    "best_run = runs[best_run_id]\n",
    "print('Best run is:', best_run_id)\n",
    "print('Metrics:', run_metrics[best_run_id])\n",
    "\n",
    "# Tag the best run for identification later\n",
    "best_run.tag(\"Best Run\")"
   ]
  }
 ],
 "metadata": {
  "kernelspec": {
   "display_name": "azureml_py36_automl",
   "language": "python",
   "name": "conda-env-azureml_py36_automl-py"
  },
  "language_info": {
   "codemirror_mode": {
    "name": "ipython",
    "version": 3
   },
   "file_extension": ".py",
   "mimetype": "text/x-python",
   "name": "python",
   "nbconvert_exporter": "python",
   "pygments_lexer": "ipython3",
   "version": "3.6.9"
  }
 },
 "nbformat": 4,
 "nbformat_minor": 2
}
