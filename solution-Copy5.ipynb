{
 "cells": [
  {
   "cell_type": "code",
   "execution_count": 1,
   "metadata": {},
   "outputs": [],
   "source": [
    "import gc\n",
    "import pandas as pd\n",
    "import numpy as np\n",
    "from datetime import datetime\n",
    "\n",
    "from xgboost import XGBClassifier\n",
    "from sklift.models import ClassTransformation\n",
    "\n",
    "from sklift.metrics import uplift_at_k\n",
    "import matplotlib.pyplot as plt\n",
    "import catboost as cb\n",
    "from catboost import CatBoostClassifier, Pool\n",
    "from sklearn.metrics import accuracy_score\n",
    "from sklearn.model_selection import train_test_split\n",
    "import optuna\n",
    "import pandas as pd\n",
    "from pandas import read_csv\n",
    "\n",
    "%matplotlib inline"
   ]
  },
  {
   "cell_type": "code",
   "execution_count": 2,
   "metadata": {},
   "outputs": [
    {
     "data": {
      "text/html": [
       "<div>\n",
       "<style scoped>\n",
       "    .dataframe tbody tr th:only-of-type {\n",
       "        vertical-align: middle;\n",
       "    }\n",
       "\n",
       "    .dataframe tbody tr th {\n",
       "        vertical-align: top;\n",
       "    }\n",
       "\n",
       "    .dataframe thead th {\n",
       "        text-align: right;\n",
       "    }\n",
       "</style>\n",
       "<table border=\"1\" class=\"dataframe\">\n",
       "  <thead>\n",
       "    <tr style=\"text-align: right;\">\n",
       "      <th></th>\n",
       "      <th>group</th>\n",
       "      <th>response_att</th>\n",
       "      <th>perdelta_days_between_visits_15_30d</th>\n",
       "      <th>k_var_days_between_visits_1m</th>\n",
       "      <th>k_var_days_between_visits_3m</th>\n",
       "      <th>k_var_days_between_visits_15d</th>\n",
       "      <th>cheque_count_6m_g48</th>\n",
       "      <th>response_sms</th>\n",
       "      <th>cheque_count_6m_g40</th>\n",
       "      <th>k_var_count_per_cheque_6m_g27</th>\n",
       "      <th>k_var_disc_share_6m_g27</th>\n",
       "      <th>response_viber</th>\n",
       "      <th>k_var_discount_depth_1m</th>\n",
       "      <th>k_var_sku_price_6m_g48</th>\n",
       "      <th>cheque_count_6m_g25</th>\n",
       "      <th>cheque_count_12m_g41</th>\n",
       "      <th>cheque_count_6m_g41</th>\n",
       "      <th>cheque_count_12m_g32</th>\n",
       "      <th>sale_count_12m_g54</th>\n",
       "      <th>cheque_count_6m_g32</th>\n",
       "      <th>k_var_sku_price_6m_g26</th>\n",
       "      <th>k_var_disc_share_6m_g24</th>\n",
       "      <th>food_share_1m</th>\n",
       "      <th>k_var_cheque_3m</th>\n",
       "      <th>age</th>\n",
       "      <th>stdev_days_between_visits_15d</th>\n",
       "      <th>cheque_count_6m_g38</th>\n",
       "      <th>cheque_count_3m_g57</th>\n",
       "      <th>cheque_count_12m_g25</th>\n",
       "      <th>months_from_register</th>\n",
       "      <th>main_format</th>\n",
       "      <th>food_share_15d</th>\n",
       "      <th>cheque_count_12m_g48</th>\n",
       "      <th>k_var_disc_share_15d_g24</th>\n",
       "      <th>sale_count_12m_g49</th>\n",
       "      <th>cheque_count_6m_g21</th>\n",
       "      <th>crazy_purchases_goods_count_12m</th>\n",
       "      <th>cheque_count_3m_g25</th>\n",
       "      <th>sale_count_3m_g57</th>\n",
       "      <th>k_var_sku_price_3m_g49</th>\n",
       "      <th>k_var_sku_price_15d_g49</th>\n",
       "      <th>k_var_disc_share_1m_g40</th>\n",
       "      <th>k_var_disc_share_3m_g24</th>\n",
       "      <th>k_var_sku_price_6m_g49</th>\n",
       "    </tr>\n",
       "  </thead>\n",
       "  <tbody>\n",
       "    <tr>\n",
       "      <th>0</th>\n",
       "      <td>1</td>\n",
       "      <td>0</td>\n",
       "      <td>1.3393</td>\n",
       "      <td>0.6479</td>\n",
       "      <td>0.8240</td>\n",
       "      <td>0.4554</td>\n",
       "      <td>6.0</td>\n",
       "      <td>0.923077</td>\n",
       "      <td>5.0</td>\n",
       "      <td>0.4845</td>\n",
       "      <td>0.6366</td>\n",
       "      <td>0.071429</td>\n",
       "      <td>0.4864</td>\n",
       "      <td>0.6718</td>\n",
       "      <td>9.0</td>\n",
       "      <td>6.0</td>\n",
       "      <td>1.0</td>\n",
       "      <td>3.0</td>\n",
       "      <td>16.0</td>\n",
       "      <td>1.0</td>\n",
       "      <td>0.1300</td>\n",
       "      <td>0.8036</td>\n",
       "      <td>0.3254</td>\n",
       "      <td>1.8741</td>\n",
       "      <td>47.0</td>\n",
       "      <td>1.7078</td>\n",
       "      <td>4.0</td>\n",
       "      <td>6.0</td>\n",
       "      <td>19.0</td>\n",
       "      <td>18.0</td>\n",
       "      <td>0</td>\n",
       "      <td>0.6488</td>\n",
       "      <td>16.0</td>\n",
       "      <td>0.0</td>\n",
       "      <td>98.0</td>\n",
       "      <td>12.0</td>\n",
       "      <td>16.0</td>\n",
       "      <td>8.0</td>\n",
       "      <td>6.0</td>\n",
       "      <td>2.1596</td>\n",
       "      <td>0.0</td>\n",
       "      <td>0.0</td>\n",
       "      <td>0.83</td>\n",
       "      <td>2.0876</td>\n",
       "    </tr>\n",
       "    <tr>\n",
       "      <th>1</th>\n",
       "      <td>1</td>\n",
       "      <td>0</td>\n",
       "      <td>0.0000</td>\n",
       "      <td>0.0000</td>\n",
       "      <td>1.0027</td>\n",
       "      <td>0.0000</td>\n",
       "      <td>1.0</td>\n",
       "      <td>1.000000</td>\n",
       "      <td>3.0</td>\n",
       "      <td>0.0000</td>\n",
       "      <td>0.0000</td>\n",
       "      <td>0.000000</td>\n",
       "      <td>0.0000</td>\n",
       "      <td>0.0000</td>\n",
       "      <td>2.0</td>\n",
       "      <td>1.0</td>\n",
       "      <td>1.0</td>\n",
       "      <td>1.0</td>\n",
       "      <td>2.0</td>\n",
       "      <td>1.0</td>\n",
       "      <td>0.2072</td>\n",
       "      <td>0.0000</td>\n",
       "      <td>1.0000</td>\n",
       "      <td>0.9630</td>\n",
       "      <td>57.0</td>\n",
       "      <td>0.0000</td>\n",
       "      <td>1.0</td>\n",
       "      <td>0.0</td>\n",
       "      <td>2.0</td>\n",
       "      <td>4.0</td>\n",
       "      <td>1</td>\n",
       "      <td>0.0000</td>\n",
       "      <td>1.0</td>\n",
       "      <td>0.0</td>\n",
       "      <td>2.0</td>\n",
       "      <td>0.0</td>\n",
       "      <td>0.0</td>\n",
       "      <td>2.0</td>\n",
       "      <td>0.0</td>\n",
       "      <td>0.6192</td>\n",
       "      <td>0.0</td>\n",
       "      <td>0.0</td>\n",
       "      <td>0.00</td>\n",
       "      <td>0.6192</td>\n",
       "    </tr>\n",
       "    <tr>\n",
       "      <th>2</th>\n",
       "      <td>0</td>\n",
       "      <td>0</td>\n",
       "      <td>0.0000</td>\n",
       "      <td>0.0000</td>\n",
       "      <td>0.5559</td>\n",
       "      <td>0.0000</td>\n",
       "      <td>6.0</td>\n",
       "      <td>1.000000</td>\n",
       "      <td>7.0</td>\n",
       "      <td>0.5762</td>\n",
       "      <td>0.8560</td>\n",
       "      <td>0.250000</td>\n",
       "      <td>0.1201</td>\n",
       "      <td>0.2407</td>\n",
       "      <td>9.0</td>\n",
       "      <td>14.0</td>\n",
       "      <td>8.0</td>\n",
       "      <td>4.0</td>\n",
       "      <td>109.0</td>\n",
       "      <td>2.0</td>\n",
       "      <td>0.0000</td>\n",
       "      <td>0.6608</td>\n",
       "      <td>0.4768</td>\n",
       "      <td>0.3295</td>\n",
       "      <td>38.0</td>\n",
       "      <td>0.0000</td>\n",
       "      <td>1.0</td>\n",
       "      <td>0.0</td>\n",
       "      <td>15.0</td>\n",
       "      <td>34.0</td>\n",
       "      <td>0</td>\n",
       "      <td>0.3739</td>\n",
       "      <td>14.0</td>\n",
       "      <td>0.0</td>\n",
       "      <td>50.0</td>\n",
       "      <td>0.0</td>\n",
       "      <td>0.0</td>\n",
       "      <td>3.0</td>\n",
       "      <td>0.0</td>\n",
       "      <td>1.8758</td>\n",
       "      <td>0.0</td>\n",
       "      <td>0.0</td>\n",
       "      <td>0.00</td>\n",
       "      <td>2.5227</td>\n",
       "    </tr>\n",
       "    <tr>\n",
       "      <th>3</th>\n",
       "      <td>1</td>\n",
       "      <td>0</td>\n",
       "      <td>0.0000</td>\n",
       "      <td>0.0000</td>\n",
       "      <td>0.7432</td>\n",
       "      <td>0.0000</td>\n",
       "      <td>3.0</td>\n",
       "      <td>0.909091</td>\n",
       "      <td>4.0</td>\n",
       "      <td>0.3295</td>\n",
       "      <td>0.5780</td>\n",
       "      <td>0.000000</td>\n",
       "      <td>0.0000</td>\n",
       "      <td>0.1028</td>\n",
       "      <td>11.0</td>\n",
       "      <td>8.0</td>\n",
       "      <td>2.0</td>\n",
       "      <td>2.0</td>\n",
       "      <td>39.0</td>\n",
       "      <td>2.0</td>\n",
       "      <td>0.7469</td>\n",
       "      <td>0.0000</td>\n",
       "      <td>1.0000</td>\n",
       "      <td>1.4933</td>\n",
       "      <td>65.0</td>\n",
       "      <td>0.0000</td>\n",
       "      <td>5.0</td>\n",
       "      <td>0.0</td>\n",
       "      <td>25.0</td>\n",
       "      <td>40.0</td>\n",
       "      <td>1</td>\n",
       "      <td>0.0000</td>\n",
       "      <td>6.0</td>\n",
       "      <td>0.0</td>\n",
       "      <td>49.0</td>\n",
       "      <td>1.0</td>\n",
       "      <td>3.0</td>\n",
       "      <td>5.0</td>\n",
       "      <td>0.0</td>\n",
       "      <td>0.1326</td>\n",
       "      <td>0.0</td>\n",
       "      <td>0.0</td>\n",
       "      <td>0.00</td>\n",
       "      <td>3.0736</td>\n",
       "    </tr>\n",
       "    <tr>\n",
       "      <th>4</th>\n",
       "      <td>1</td>\n",
       "      <td>0</td>\n",
       "      <td>0.0000</td>\n",
       "      <td>0.4714</td>\n",
       "      <td>0.9980</td>\n",
       "      <td>0.4714</td>\n",
       "      <td>4.0</td>\n",
       "      <td>1.000000</td>\n",
       "      <td>8.0</td>\n",
       "      <td>0.7526</td>\n",
       "      <td>0.9058</td>\n",
       "      <td>0.100000</td>\n",
       "      <td>0.4903</td>\n",
       "      <td>0.2195</td>\n",
       "      <td>2.0</td>\n",
       "      <td>3.0</td>\n",
       "      <td>2.0</td>\n",
       "      <td>0.0</td>\n",
       "      <td>25.0</td>\n",
       "      <td>0.0</td>\n",
       "      <td>1.0926</td>\n",
       "      <td>1.0710</td>\n",
       "      <td>0.2882</td>\n",
       "      <td>0.9014</td>\n",
       "      <td>61.0</td>\n",
       "      <td>1.4142</td>\n",
       "      <td>1.0</td>\n",
       "      <td>0.0</td>\n",
       "      <td>2.0</td>\n",
       "      <td>20.0</td>\n",
       "      <td>0</td>\n",
       "      <td>0.2882</td>\n",
       "      <td>5.0</td>\n",
       "      <td>0.0</td>\n",
       "      <td>25.0</td>\n",
       "      <td>1.0</td>\n",
       "      <td>4.0</td>\n",
       "      <td>1.0</td>\n",
       "      <td>0.0</td>\n",
       "      <td>2.0293</td>\n",
       "      <td>0.0</td>\n",
       "      <td>0.0</td>\n",
       "      <td>0.00</td>\n",
       "      <td>1.4917</td>\n",
       "    </tr>\n",
       "  </tbody>\n",
       "</table>\n",
       "</div>"
      ],
      "text/plain": [
       "   group  response_att  perdelta_days_between_visits_15_30d  \\\n",
       "0      1             0                               1.3393   \n",
       "1      1             0                               0.0000   \n",
       "2      0             0                               0.0000   \n",
       "3      1             0                               0.0000   \n",
       "4      1             0                               0.0000   \n",
       "\n",
       "   k_var_days_between_visits_1m  k_var_days_between_visits_3m  \\\n",
       "0                        0.6479                        0.8240   \n",
       "1                        0.0000                        1.0027   \n",
       "2                        0.0000                        0.5559   \n",
       "3                        0.0000                        0.7432   \n",
       "4                        0.4714                        0.9980   \n",
       "\n",
       "   k_var_days_between_visits_15d  cheque_count_6m_g48  response_sms  \\\n",
       "0                         0.4554                  6.0      0.923077   \n",
       "1                         0.0000                  1.0      1.000000   \n",
       "2                         0.0000                  6.0      1.000000   \n",
       "3                         0.0000                  3.0      0.909091   \n",
       "4                         0.4714                  4.0      1.000000   \n",
       "\n",
       "   cheque_count_6m_g40  k_var_count_per_cheque_6m_g27  \\\n",
       "0                  5.0                         0.4845   \n",
       "1                  3.0                         0.0000   \n",
       "2                  7.0                         0.5762   \n",
       "3                  4.0                         0.3295   \n",
       "4                  8.0                         0.7526   \n",
       "\n",
       "   k_var_disc_share_6m_g27  response_viber  k_var_discount_depth_1m  \\\n",
       "0                   0.6366        0.071429                   0.4864   \n",
       "1                   0.0000        0.000000                   0.0000   \n",
       "2                   0.8560        0.250000                   0.1201   \n",
       "3                   0.5780        0.000000                   0.0000   \n",
       "4                   0.9058        0.100000                   0.4903   \n",
       "\n",
       "   k_var_sku_price_6m_g48  cheque_count_6m_g25  cheque_count_12m_g41  \\\n",
       "0                  0.6718                  9.0                   6.0   \n",
       "1                  0.0000                  2.0                   1.0   \n",
       "2                  0.2407                  9.0                  14.0   \n",
       "3                  0.1028                 11.0                   8.0   \n",
       "4                  0.2195                  2.0                   3.0   \n",
       "\n",
       "   cheque_count_6m_g41  cheque_count_12m_g32  sale_count_12m_g54  \\\n",
       "0                  1.0                   3.0                16.0   \n",
       "1                  1.0                   1.0                 2.0   \n",
       "2                  8.0                   4.0               109.0   \n",
       "3                  2.0                   2.0                39.0   \n",
       "4                  2.0                   0.0                25.0   \n",
       "\n",
       "   cheque_count_6m_g32  k_var_sku_price_6m_g26  k_var_disc_share_6m_g24  \\\n",
       "0                  1.0                  0.1300                   0.8036   \n",
       "1                  1.0                  0.2072                   0.0000   \n",
       "2                  2.0                  0.0000                   0.6608   \n",
       "3                  2.0                  0.7469                   0.0000   \n",
       "4                  0.0                  1.0926                   1.0710   \n",
       "\n",
       "   food_share_1m  k_var_cheque_3m   age  stdev_days_between_visits_15d  \\\n",
       "0         0.3254           1.8741  47.0                         1.7078   \n",
       "1         1.0000           0.9630  57.0                         0.0000   \n",
       "2         0.4768           0.3295  38.0                         0.0000   \n",
       "3         1.0000           1.4933  65.0                         0.0000   \n",
       "4         0.2882           0.9014  61.0                         1.4142   \n",
       "\n",
       "   cheque_count_6m_g38  cheque_count_3m_g57  cheque_count_12m_g25  \\\n",
       "0                  4.0                  6.0                  19.0   \n",
       "1                  1.0                  0.0                   2.0   \n",
       "2                  1.0                  0.0                  15.0   \n",
       "3                  5.0                  0.0                  25.0   \n",
       "4                  1.0                  0.0                   2.0   \n",
       "\n",
       "   months_from_register  main_format  food_share_15d  cheque_count_12m_g48  \\\n",
       "0                  18.0            0          0.6488                  16.0   \n",
       "1                   4.0            1          0.0000                   1.0   \n",
       "2                  34.0            0          0.3739                  14.0   \n",
       "3                  40.0            1          0.0000                   6.0   \n",
       "4                  20.0            0          0.2882                   5.0   \n",
       "\n",
       "   k_var_disc_share_15d_g24  sale_count_12m_g49  cheque_count_6m_g21  \\\n",
       "0                       0.0                98.0                 12.0   \n",
       "1                       0.0                 2.0                  0.0   \n",
       "2                       0.0                50.0                  0.0   \n",
       "3                       0.0                49.0                  1.0   \n",
       "4                       0.0                25.0                  1.0   \n",
       "\n",
       "   crazy_purchases_goods_count_12m  cheque_count_3m_g25  sale_count_3m_g57  \\\n",
       "0                             16.0                  8.0                6.0   \n",
       "1                              0.0                  2.0                0.0   \n",
       "2                              0.0                  3.0                0.0   \n",
       "3                              3.0                  5.0                0.0   \n",
       "4                              4.0                  1.0                0.0   \n",
       "\n",
       "   k_var_sku_price_3m_g49  k_var_sku_price_15d_g49  k_var_disc_share_1m_g40  \\\n",
       "0                  2.1596                      0.0                      0.0   \n",
       "1                  0.6192                      0.0                      0.0   \n",
       "2                  1.8758                      0.0                      0.0   \n",
       "3                  0.1326                      0.0                      0.0   \n",
       "4                  2.0293                      0.0                      0.0   \n",
       "\n",
       "   k_var_disc_share_3m_g24  k_var_sku_price_6m_g49  \n",
       "0                     0.83                  2.0876  \n",
       "1                     0.00                  0.6192  \n",
       "2                     0.00                  2.5227  \n",
       "3                     0.00                  3.0736  \n",
       "4                     0.00                  1.4917  "
      ]
     },
     "execution_count": 2,
     "metadata": {},
     "output_type": "execute_result"
    }
   ],
   "source": [
    "data = read_csv('dataset.csv')\n",
    "y = data['response_att']\n",
    "X = data.copy()\n",
    "\n",
    "features_list = ['group', 'response_att',\n",
    " 'perdelta_days_between_visits_15_30d',\n",
    " 'k_var_days_between_visits_1m',\n",
    " 'k_var_days_between_visits_3m',\n",
    " 'k_var_days_between_visits_15d',\n",
    " 'cheque_count_6m_g48',\n",
    " 'response_sms',\n",
    " 'cheque_count_6m_g40',\n",
    " 'k_var_count_per_cheque_6m_g27',\n",
    " 'k_var_disc_share_6m_g27',\n",
    " 'response_viber',\n",
    " 'k_var_discount_depth_1m',\n",
    " 'k_var_sku_price_6m_g48',\n",
    " 'cheque_count_6m_g25',\n",
    " 'cheque_count_12m_g41',\n",
    " 'cheque_count_6m_g41',\n",
    " 'cheque_count_12m_g32',\n",
    " 'sale_count_12m_g54',\n",
    " 'cheque_count_6m_g32',\n",
    " 'k_var_sku_price_6m_g26',\n",
    " 'k_var_disc_share_6m_g24',\n",
    " 'food_share_1m',\n",
    " 'k_var_cheque_3m',\n",
    " 'age',\n",
    " 'stdev_days_between_visits_15d',\n",
    " 'cheque_count_6m_g38',\n",
    " 'cheque_count_3m_g57',\n",
    " 'cheque_count_12m_g25',\n",
    " 'months_from_register',\n",
    " 'main_format',\n",
    " 'food_share_15d',\n",
    " 'cheque_count_12m_g48',\n",
    " 'k_var_disc_share_15d_g24',\n",
    " 'sale_count_12m_g49',\n",
    " 'cheque_count_6m_g21',\n",
    " 'crazy_purchases_goods_count_12m',\n",
    " 'cheque_count_3m_g25',\n",
    " 'sale_count_3m_g57',\n",
    " 'k_var_sku_price_3m_g49',\n",
    " 'k_var_sku_price_15d_g49',\n",
    " 'k_var_disc_share_1m_g40',\n",
    " 'k_var_disc_share_3m_g24',\n",
    " 'k_var_sku_price_6m_g49',\n",
    " 'cheque_count_6m_g42'\n",
    " 'k_var_cheque_15d'\n",
    "]\n",
    "\n",
    "X = X.filter(features_list)\n",
    "pd.set_option('display.max_columns', 500)\n",
    "X.head(5)"
   ]
  },
  {
   "cell_type": "code",
   "execution_count": 3,
   "metadata": {},
   "outputs": [],
   "source": [
    "X_train, X_test, y_train, y_test = train_test_split(X, y, test_size=0.3, random_state=10)"
   ]
  },
  {
   "cell_type": "code",
   "execution_count": 4,
   "metadata": {},
   "outputs": [
    {
     "name": "stdout",
     "output_type": "stream",
     "text": [
      "You are currently using version 1.5.0 of the Azure ML SDK\n",
      "\n",
      "Workspace name: team19\n"
     ]
    }
   ],
   "source": [
    "import azureml.core\n",
    "from azureml.core.authentication import InteractiveLoginAuthentication\n",
    "from azureml.core import Experiment, Workspace\n",
    "\n",
    "# Check core SDK version number\n",
    "print(\"You are currently using version\", azureml.core.VERSION, \"of the Azure ML SDK\")\n",
    "print(\"\")\n",
    "\n",
    "# Log In to Azure ML Workspace\n",
    "interactive_auth = InteractiveLoginAuthentication(tenant_id=\"76f90eb1-fb9a-4446-9875-4d323d6455ad\")\n",
    "\n",
    "ws = Workspace.from_config(auth=interactive_auth)\n",
    "print('Workspace name: ' + ws.name, sep='\\n')"
   ]
  },
  {
   "cell_type": "code",
   "execution_count": 5,
   "metadata": {},
   "outputs": [],
   "source": [
    "def custom_metric(answers, take_top_ratio=0.25):\n",
    "    answers.sort_values(by='uplift', inplace=True, ascending=False)\n",
    "    \n",
    "    n_samples = int(np.ceil(answers.shape[0] * take_top_ratio))\n",
    "    answers = answers.iloc[:n_samples, :]\n",
    "    answers_test = answers[answers['group'] == 1]['response_att'].sum() / \\\n",
    "                   answers[answers['group'] == 1].shape[0]\n",
    "    answers_control = answers[answers['group'] == 0]['response_att'].sum() / \\\n",
    "                      answers[answers['group'] == 0].shape[0]\n",
    "    return (answers_test - answers_control) * 100"
   ]
  },
  {
   "cell_type": "code",
   "execution_count": 6,
   "metadata": {},
   "outputs": [],
   "source": [
    "# Get an experiment object from Azure Machine Learning"
   ]
  },
  {
   "cell_type": "code",
   "execution_count": 7,
   "metadata": {},
   "outputs": [],
   "source": [
    "#i = 0"
   ]
  },
  {
   "cell_type": "code",
   "execution_count": 13,
   "metadata": {},
   "outputs": [
    {
     "name": "stdout",
     "output_type": "stream",
     "text": [
      "lr 0.166\n",
      "depth 5\n",
      "n_estimators 50\n"
     ]
    },
    {
     "name": "stderr",
     "output_type": "stream",
     "text": [
      "/anaconda/envs/azureml_py36_automl/lib/python3.6/site-packages/ipykernel_launcher.py:53: UserWarning:\n",
      "\n",
      "It is recommended to use this approach on treatment balanced data. Current sample size is unbalanced.\n",
      "\n"
     ]
    },
    {
     "name": "stdout",
     "output_type": "stream",
     "text": [
      "Submit data shape: (206109, 1)\n",
      "\n",
      "score  6.53275312868882\n",
      "lr 0.171\n",
      "depth 5\n",
      "n_estimators 50\n"
     ]
    },
    {
     "name": "stderr",
     "output_type": "stream",
     "text": [
      "/anaconda/envs/azureml_py36_automl/lib/python3.6/site-packages/ipykernel_launcher.py:53: UserWarning:\n",
      "\n",
      "It is recommended to use this approach on treatment balanced data. Current sample size is unbalanced.\n",
      "\n"
     ]
    },
    {
     "name": "stdout",
     "output_type": "stream",
     "text": [
      "Submit data shape: (206109, 1)\n",
      "\n",
      "score  6.536851307126446\n",
      "lr 0.17600000000000002\n",
      "depth 5\n",
      "n_estimators 50\n"
     ]
    },
    {
     "name": "stderr",
     "output_type": "stream",
     "text": [
      "/anaconda/envs/azureml_py36_automl/lib/python3.6/site-packages/ipykernel_launcher.py:53: UserWarning:\n",
      "\n",
      "It is recommended to use this approach on treatment balanced data. Current sample size is unbalanced.\n",
      "\n"
     ]
    },
    {
     "name": "stdout",
     "output_type": "stream",
     "text": [
      "Submit data shape: (206109, 1)\n",
      "\n",
      "score  6.341375524674758\n",
      "lr 0.166\n",
      "depth 5\n",
      "n_estimators 55\n"
     ]
    },
    {
     "name": "stderr",
     "output_type": "stream",
     "text": [
      "/anaconda/envs/azureml_py36_automl/lib/python3.6/site-packages/ipykernel_launcher.py:53: UserWarning:\n",
      "\n",
      "It is recommended to use this approach on treatment balanced data. Current sample size is unbalanced.\n",
      "\n"
     ]
    },
    {
     "name": "stdout",
     "output_type": "stream",
     "text": [
      "Submit data shape: (206109, 1)\n",
      "\n",
      "score  6.549459990731929\n",
      "lr 0.171\n",
      "depth 5\n",
      "n_estimators 55\n"
     ]
    },
    {
     "name": "stderr",
     "output_type": "stream",
     "text": [
      "/anaconda/envs/azureml_py36_automl/lib/python3.6/site-packages/ipykernel_launcher.py:53: UserWarning:\n",
      "\n",
      "It is recommended to use this approach on treatment balanced data. Current sample size is unbalanced.\n",
      "\n"
     ]
    },
    {
     "name": "stdout",
     "output_type": "stream",
     "text": [
      "Submit data shape: (206109, 1)\n",
      "\n",
      "score  6.494935900970006\n",
      "lr 0.17600000000000002\n",
      "depth 5\n",
      "n_estimators 55\n"
     ]
    },
    {
     "name": "stderr",
     "output_type": "stream",
     "text": [
      "/anaconda/envs/azureml_py36_automl/lib/python3.6/site-packages/ipykernel_launcher.py:53: UserWarning:\n",
      "\n",
      "It is recommended to use this approach on treatment balanced data. Current sample size is unbalanced.\n",
      "\n"
     ]
    },
    {
     "name": "stdout",
     "output_type": "stream",
     "text": [
      "Submit data shape: (206109, 1)\n",
      "\n",
      "score  6.309493258644558\n",
      "lr 0.166\n",
      "depth 5\n",
      "n_estimators 60\n"
     ]
    },
    {
     "name": "stderr",
     "output_type": "stream",
     "text": [
      "/anaconda/envs/azureml_py36_automl/lib/python3.6/site-packages/ipykernel_launcher.py:53: UserWarning:\n",
      "\n",
      "It is recommended to use this approach on treatment balanced data. Current sample size is unbalanced.\n",
      "\n"
     ]
    },
    {
     "name": "stdout",
     "output_type": "stream",
     "text": [
      "Submit data shape: (206109, 1)\n",
      "\n",
      "score  6.599853575415477\n",
      "lr 0.171\n",
      "depth 5\n",
      "n_estimators 60\n"
     ]
    },
    {
     "name": "stderr",
     "output_type": "stream",
     "text": [
      "/anaconda/envs/azureml_py36_automl/lib/python3.6/site-packages/ipykernel_launcher.py:53: UserWarning:\n",
      "\n",
      "It is recommended to use this approach on treatment balanced data. Current sample size is unbalanced.\n",
      "\n"
     ]
    },
    {
     "name": "stdout",
     "output_type": "stream",
     "text": [
      "Submit data shape: (206109, 1)\n",
      "\n",
      "score  6.569186559018059\n",
      "lr 0.17600000000000002\n",
      "depth 5\n",
      "n_estimators 60\n"
     ]
    },
    {
     "name": "stderr",
     "output_type": "stream",
     "text": [
      "/anaconda/envs/azureml_py36_automl/lib/python3.6/site-packages/ipykernel_launcher.py:53: UserWarning:\n",
      "\n",
      "It is recommended to use this approach on treatment balanced data. Current sample size is unbalanced.\n",
      "\n"
     ]
    },
    {
     "name": "stdout",
     "output_type": "stream",
     "text": [
      "Submit data shape: (206109, 1)\n",
      "\n",
      "score  6.335150744740147\n",
      "lr 0.166\n",
      "depth 5\n",
      "n_estimators 65\n"
     ]
    },
    {
     "name": "stderr",
     "output_type": "stream",
     "text": [
      "/anaconda/envs/azureml_py36_automl/lib/python3.6/site-packages/ipykernel_launcher.py:53: UserWarning:\n",
      "\n",
      "It is recommended to use this approach on treatment balanced data. Current sample size is unbalanced.\n",
      "\n"
     ]
    },
    {
     "name": "stdout",
     "output_type": "stream",
     "text": [
      "Submit data shape: (206109, 1)\n",
      "\n",
      "score  6.580252898877973\n",
      "lr 0.171\n",
      "depth 5\n",
      "n_estimators 65\n"
     ]
    },
    {
     "name": "stderr",
     "output_type": "stream",
     "text": [
      "/anaconda/envs/azureml_py36_automl/lib/python3.6/site-packages/ipykernel_launcher.py:53: UserWarning:\n",
      "\n",
      "It is recommended to use this approach on treatment balanced data. Current sample size is unbalanced.\n",
      "\n"
     ]
    },
    {
     "name": "stdout",
     "output_type": "stream",
     "text": [
      "Submit data shape: (206109, 1)\n",
      "\n",
      "score  6.56047748266321\n",
      "lr 0.17600000000000002\n",
      "depth 5\n",
      "n_estimators 65\n"
     ]
    },
    {
     "name": "stderr",
     "output_type": "stream",
     "text": [
      "/anaconda/envs/azureml_py36_automl/lib/python3.6/site-packages/ipykernel_launcher.py:53: UserWarning:\n",
      "\n",
      "It is recommended to use this approach on treatment balanced data. Current sample size is unbalanced.\n",
      "\n"
     ]
    },
    {
     "name": "stdout",
     "output_type": "stream",
     "text": [
      "Submit data shape: (206109, 1)\n",
      "\n",
      "score  6.283217465523666\n",
      "lr 0.166\n",
      "depth 5\n",
      "n_estimators 70\n"
     ]
    },
    {
     "name": "stderr",
     "output_type": "stream",
     "text": [
      "/anaconda/envs/azureml_py36_automl/lib/python3.6/site-packages/ipykernel_launcher.py:53: UserWarning:\n",
      "\n",
      "It is recommended to use this approach on treatment balanced data. Current sample size is unbalanced.\n",
      "\n"
     ]
    },
    {
     "name": "stdout",
     "output_type": "stream",
     "text": [
      "Submit data shape: (206109, 1)\n",
      "\n",
      "score  6.586378948130897\n",
      "lr 0.171\n",
      "depth 5\n",
      "n_estimators 70\n"
     ]
    },
    {
     "name": "stderr",
     "output_type": "stream",
     "text": [
      "/anaconda/envs/azureml_py36_automl/lib/python3.6/site-packages/ipykernel_launcher.py:53: UserWarning:\n",
      "\n",
      "It is recommended to use this approach on treatment balanced data. Current sample size is unbalanced.\n",
      "\n"
     ]
    },
    {
     "name": "stdout",
     "output_type": "stream",
     "text": [
      "Submit data shape: (206109, 1)\n",
      "\n",
      "score  6.508844407585501\n",
      "lr 0.17600000000000002\n",
      "depth 5\n",
      "n_estimators 70\n"
     ]
    },
    {
     "name": "stderr",
     "output_type": "stream",
     "text": [
      "/anaconda/envs/azureml_py36_automl/lib/python3.6/site-packages/ipykernel_launcher.py:53: UserWarning:\n",
      "\n",
      "It is recommended to use this approach on treatment balanced data. Current sample size is unbalanced.\n",
      "\n"
     ]
    },
    {
     "name": "stdout",
     "output_type": "stream",
     "text": [
      "Submit data shape: (206109, 1)\n",
      "\n",
      "score  6.287271165635719\n",
      "lr 0.166\n",
      "depth 5\n",
      "n_estimators 75\n"
     ]
    },
    {
     "name": "stderr",
     "output_type": "stream",
     "text": [
      "/anaconda/envs/azureml_py36_automl/lib/python3.6/site-packages/ipykernel_launcher.py:53: UserWarning:\n",
      "\n",
      "It is recommended to use this approach on treatment balanced data. Current sample size is unbalanced.\n",
      "\n"
     ]
    },
    {
     "name": "stdout",
     "output_type": "stream",
     "text": [
      "Submit data shape: (206109, 1)\n",
      "\n",
      "score  6.585781944527916\n",
      "lr 0.171\n",
      "depth 5\n",
      "n_estimators 75\n"
     ]
    },
    {
     "name": "stderr",
     "output_type": "stream",
     "text": [
      "/anaconda/envs/azureml_py36_automl/lib/python3.6/site-packages/ipykernel_launcher.py:53: UserWarning:\n",
      "\n",
      "It is recommended to use this approach on treatment balanced data. Current sample size is unbalanced.\n",
      "\n"
     ]
    },
    {
     "name": "stdout",
     "output_type": "stream",
     "text": [
      "Submit data shape: (206109, 1)\n",
      "\n",
      "score  6.474591297959573\n",
      "lr 0.17600000000000002\n",
      "depth 5\n",
      "n_estimators 75\n"
     ]
    },
    {
     "name": "stderr",
     "output_type": "stream",
     "text": [
      "/anaconda/envs/azureml_py36_automl/lib/python3.6/site-packages/ipykernel_launcher.py:53: UserWarning:\n",
      "\n",
      "It is recommended to use this approach on treatment balanced data. Current sample size is unbalanced.\n",
      "\n"
     ]
    },
    {
     "name": "stdout",
     "output_type": "stream",
     "text": [
      "Submit data shape: (206109, 1)\n",
      "\n",
      "score  6.3217877615082045\n",
      "lr 0.166\n",
      "depth 5\n",
      "n_estimators 80\n"
     ]
    },
    {
     "name": "stderr",
     "output_type": "stream",
     "text": [
      "/anaconda/envs/azureml_py36_automl/lib/python3.6/site-packages/ipykernel_launcher.py:53: UserWarning:\n",
      "\n",
      "It is recommended to use this approach on treatment balanced data. Current sample size is unbalanced.\n",
      "\n"
     ]
    },
    {
     "name": "stdout",
     "output_type": "stream",
     "text": [
      "Submit data shape: (206109, 1)\n",
      "\n",
      "score  6.634794164619135\n",
      "lr 0.171\n",
      "depth 5\n",
      "n_estimators 80\n"
     ]
    },
    {
     "name": "stderr",
     "output_type": "stream",
     "text": [
      "/anaconda/envs/azureml_py36_automl/lib/python3.6/site-packages/ipykernel_launcher.py:53: UserWarning:\n",
      "\n",
      "It is recommended to use this approach on treatment balanced data. Current sample size is unbalanced.\n",
      "\n"
     ]
    },
    {
     "name": "stdout",
     "output_type": "stream",
     "text": [
      "Submit data shape: (206109, 1)\n",
      "\n",
      "score  6.45337251538694\n",
      "lr 0.17600000000000002\n",
      "depth 5\n",
      "n_estimators 80\n"
     ]
    },
    {
     "name": "stderr",
     "output_type": "stream",
     "text": [
      "/anaconda/envs/azureml_py36_automl/lib/python3.6/site-packages/ipykernel_launcher.py:53: UserWarning:\n",
      "\n",
      "It is recommended to use this approach on treatment balanced data. Current sample size is unbalanced.\n",
      "\n"
     ]
    },
    {
     "name": "stdout",
     "output_type": "stream",
     "text": [
      "Submit data shape: (206109, 1)\n",
      "\n",
      "score  6.285253497099533\n",
      "lr 0.166\n",
      "depth 5\n",
      "n_estimators 85\n"
     ]
    },
    {
     "name": "stderr",
     "output_type": "stream",
     "text": [
      "/anaconda/envs/azureml_py36_automl/lib/python3.6/site-packages/ipykernel_launcher.py:53: UserWarning:\n",
      "\n",
      "It is recommended to use this approach on treatment balanced data. Current sample size is unbalanced.\n",
      "\n"
     ]
    },
    {
     "name": "stdout",
     "output_type": "stream",
     "text": [
      "Submit data shape: (206109, 1)\n",
      "\n",
      "score  6.663148365360594\n",
      "lr 0.171\n",
      "depth 5\n",
      "n_estimators 85\n"
     ]
    },
    {
     "name": "stderr",
     "output_type": "stream",
     "text": [
      "/anaconda/envs/azureml_py36_automl/lib/python3.6/site-packages/ipykernel_launcher.py:53: UserWarning:\n",
      "\n",
      "It is recommended to use this approach on treatment balanced data. Current sample size is unbalanced.\n",
      "\n"
     ]
    },
    {
     "name": "stdout",
     "output_type": "stream",
     "text": [
      "Submit data shape: (206109, 1)\n",
      "\n",
      "score  6.423288092175644\n",
      "lr 0.17600000000000002\n",
      "depth 5\n",
      "n_estimators 85\n"
     ]
    },
    {
     "name": "stderr",
     "output_type": "stream",
     "text": [
      "/anaconda/envs/azureml_py36_automl/lib/python3.6/site-packages/ipykernel_launcher.py:53: UserWarning:\n",
      "\n",
      "It is recommended to use this approach on treatment balanced data. Current sample size is unbalanced.\n",
      "\n"
     ]
    },
    {
     "name": "stdout",
     "output_type": "stream",
     "text": [
      "Submit data shape: (206109, 1)\n",
      "\n",
      "score  6.3139343705804905\n",
      "lr 0.166\n",
      "depth 5\n",
      "n_estimators 90\n"
     ]
    },
    {
     "name": "stderr",
     "output_type": "stream",
     "text": [
      "/anaconda/envs/azureml_py36_automl/lib/python3.6/site-packages/ipykernel_launcher.py:53: UserWarning:\n",
      "\n",
      "It is recommended to use this approach on treatment balanced data. Current sample size is unbalanced.\n",
      "\n"
     ]
    },
    {
     "name": "stdout",
     "output_type": "stream",
     "text": [
      "Submit data shape: (206109, 1)\n",
      "\n",
      "score  6.66305353745194\n",
      "lr 0.171\n",
      "depth 5\n",
      "n_estimators 90\n"
     ]
    },
    {
     "name": "stderr",
     "output_type": "stream",
     "text": [
      "/anaconda/envs/azureml_py36_automl/lib/python3.6/site-packages/ipykernel_launcher.py:53: UserWarning:\n",
      "\n",
      "It is recommended to use this approach on treatment balanced data. Current sample size is unbalanced.\n",
      "\n"
     ]
    },
    {
     "name": "stdout",
     "output_type": "stream",
     "text": [
      "Submit data shape: (206109, 1)\n",
      "\n",
      "score  6.487246494470533\n",
      "lr 0.17600000000000002\n",
      "depth 5\n",
      "n_estimators 90\n"
     ]
    },
    {
     "name": "stderr",
     "output_type": "stream",
     "text": [
      "/anaconda/envs/azureml_py36_automl/lib/python3.6/site-packages/ipykernel_launcher.py:53: UserWarning:\n",
      "\n",
      "It is recommended to use this approach on treatment balanced data. Current sample size is unbalanced.\n",
      "\n"
     ]
    },
    {
     "name": "stdout",
     "output_type": "stream",
     "text": [
      "Submit data shape: (206109, 1)\n",
      "\n",
      "score  6.311332982159968\n",
      "lr 0.166\n",
      "depth 5\n",
      "n_estimators 95\n"
     ]
    },
    {
     "name": "stderr",
     "output_type": "stream",
     "text": [
      "/anaconda/envs/azureml_py36_automl/lib/python3.6/site-packages/ipykernel_launcher.py:53: UserWarning:\n",
      "\n",
      "It is recommended to use this approach on treatment balanced data. Current sample size is unbalanced.\n",
      "\n"
     ]
    },
    {
     "name": "stdout",
     "output_type": "stream",
     "text": [
      "Submit data shape: (206109, 1)\n",
      "\n",
      "score  6.589372329311313\n",
      "lr 0.171\n",
      "depth 5\n",
      "n_estimators 95\n"
     ]
    },
    {
     "name": "stderr",
     "output_type": "stream",
     "text": [
      "/anaconda/envs/azureml_py36_automl/lib/python3.6/site-packages/ipykernel_launcher.py:53: UserWarning:\n",
      "\n",
      "It is recommended to use this approach on treatment balanced data. Current sample size is unbalanced.\n",
      "\n"
     ]
    },
    {
     "name": "stdout",
     "output_type": "stream",
     "text": [
      "Submit data shape: (206109, 1)\n",
      "\n",
      "score  6.412642746794109\n",
      "lr 0.17600000000000002\n",
      "depth 5\n",
      "n_estimators 95\n"
     ]
    },
    {
     "name": "stderr",
     "output_type": "stream",
     "text": [
      "/anaconda/envs/azureml_py36_automl/lib/python3.6/site-packages/ipykernel_launcher.py:53: UserWarning:\n",
      "\n",
      "It is recommended to use this approach on treatment balanced data. Current sample size is unbalanced.\n",
      "\n"
     ]
    },
    {
     "name": "stdout",
     "output_type": "stream",
     "text": [
      "Submit data shape: (206109, 1)\n",
      "\n",
      "score  6.351529598459668\n"
     ]
    }
   ],
   "source": [
    "import numpy as np\n",
    "from tqdm import tqdm\n",
    "import joblib\n",
    "import matplotlib.pyplot as plt\n",
    "import seaborn as sns\n",
    "\n",
    "%matplotlib inline\n",
    "\n",
    "\n",
    "# list of numbers from 0 to 1.0 with a 0.05 interval\n",
    "lrs = list(np.arange(0.166, 0.177, 0.005))\n",
    "depth = list(np.arange(5, 6, 1))\n",
    "estimators = list(np.arange(50, 100, 5))\n",
    "\n",
    "# try a bunch of alpha values in a Linear Regression (Ridge) model\n",
    "experiment = Experiment(workspace=ws, name=\"depth-5\")\n",
    "\n",
    "max_score = 0\n",
    "\n",
    "for max_depth in depth:\n",
    "    for n_estimators in estimators:\n",
    "        for lr in lrs:\n",
    "            print('lr', lr)\n",
    "            print('depth', max_depth)\n",
    "            print('n_estimators', n_estimators)\n",
    "            \n",
    "            with experiment.start_logging(snapshot_directory=None) as run:\n",
    "                run.log(name='lr', value=lr)\n",
    "                run.log(name='depth', value=max_depth)\n",
    "                run.log(name='n_estimators', value=n_estimators)\n",
    "\n",
    "                xgb_est_params = {\n",
    "                    'max_depth':max_depth,\n",
    "                    'learning_rate': lr, \n",
    "                    'n_estimators': n_estimators,\n",
    "                    'nthread':64,\n",
    "                    'n_gpus':1,\n",
    "                    'seed':42\n",
    "                }\n",
    "\n",
    "                estimator = XGBClassifier(\n",
    "                    **xgb_est_params\n",
    "                )\n",
    "\n",
    "\n",
    "                uplift_model_cl_tr = ClassTransformation(\n",
    "                    estimator=estimator\n",
    "                )\n",
    "\n",
    "                uplift_model_cl_tr.fit(\n",
    "                    X=X_train.drop(columns=['group', 'response_att']),\n",
    "                    y=X_train['response_att'],\n",
    "                    treatment=X_train['group']\n",
    "                )\n",
    "\n",
    "                uplift_ts = uplift_model_cl_tr.predict(\n",
    "                    X_test.drop(columns=['group', 'response_att'])\n",
    "                )\n",
    "\n",
    "                df_submit = X_test.assign(uplift=uplift_ts)[['uplift']]\n",
    "\n",
    "                print(f'Submit data shape: {df_submit.shape}\\n')\n",
    "                df_submit.head(2)\n",
    "\n",
    "                df_submit['group'] = X_test['group']\n",
    "                df_submit['response_att'] = X_test['response_att']\n",
    "                score = custom_metric(df_submit)\n",
    "                print('score ', score)\n",
    "                run.log(name='score', value=score)\n",
    "                \n",
    "                if score > max_score:\n",
    "                    max_score = score\n",
    "                    run.tag(\"Best cur\")\n",
    "\n",
    "#                 x = []\n",
    "#                 answers = []\n",
    "#                 num = 100\n",
    "#                 for i in range(20, num + 1):\n",
    "#                     x.append(1.0 * i / num)\n",
    "#                     answers.append(custom_metric(df_submit, take_top_ratio=1.0 * i/ num))\n",
    "\n",
    "#                 plt.plot(x, answers)\n",
    "#                 run.log_image(name=\"Score plot\", plot=plt)\n",
    "#                 plt.show()\n",
    "        \n",
    "        #joblib.dump(value=uplift_model_cl_tr, filename='outputs/model' + str(i) + '.pkl')\n",
    "        #i += 1"
   ]
  },
  {
   "cell_type": "code",
   "execution_count": 11,
   "metadata": {},
   "outputs": [
    {
     "name": "stderr",
     "output_type": "stream",
     "text": [
      "22it [00:05,  4.05it/s]\n"
     ]
    },
    {
     "name": "stdout",
     "output_type": "stream",
     "text": [
      "Best run is: fb524d86-f5f6-4a3d-a3cb-4e8d66e11f6a\n",
      "Metrics: {'lr': 0.2, 'score': 6.087121555088201}\n"
     ]
    }
   ],
   "source": [
    "runs = {}\n",
    "run_metrics = {}\n",
    "\n",
    "# Create dictionaries containing the runs and the metrics for all runs containing the 'mse' metric\n",
    "for r in tqdm(experiment.get_runs()):\n",
    "    metrics = r.get_metrics()\n",
    "    if 'score' in metrics.keys():\n",
    "        runs[r.id] = r\n",
    "        run_metrics[r.id] = metrics\n",
    "\n",
    "# Find the run with the best (lowest) mean squared error and display the id and metrics\n",
    "best_run_id = max(run_metrics, key = lambda k: run_metrics[k]['score'])\n",
    "best_run = runs[best_run_id]\n",
    "print('Best run is:', best_run_id)\n",
    "print('Metrics:', run_metrics[best_run_id])\n",
    "\n",
    "# Tag the best run for identification later\n",
    "best_run.tag(\"Best Run\")"
   ]
  }
 ],
 "metadata": {
  "kernelspec": {
   "display_name": "azureml_py36_automl",
   "language": "python",
   "name": "conda-env-azureml_py36_automl-py"
  },
  "language_info": {
   "codemirror_mode": {
    "name": "ipython",
    "version": 3
   },
   "file_extension": ".py",
   "mimetype": "text/x-python",
   "name": "python",
   "nbconvert_exporter": "python",
   "pygments_lexer": "ipython3",
   "version": "3.6.9"
  }
 },
 "nbformat": 4,
 "nbformat_minor": 2
}
