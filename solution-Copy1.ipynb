{
 "cells": [
  {
   "cell_type": "code",
   "execution_count": 1,
   "metadata": {},
   "outputs": [],
   "source": [
    "import gc\n",
    "import pandas as pd\n",
    "import numpy as np\n",
    "from datetime import datetime\n",
    "\n",
    "from xgboost import XGBClassifier\n",
    "from sklift.models import ClassTransformation\n",
    "\n",
    "from sklift.metrics import uplift_at_k\n",
    "import matplotlib.pyplot as plt\n",
    "import catboost as cb\n",
    "from catboost import CatBoostClassifier, Pool\n",
    "from sklearn.metrics import accuracy_score\n",
    "from sklearn.model_selection import train_test_split\n",
    "import optuna\n",
    "import pandas as pd\n",
    "from pandas import read_csv\n",
    "\n",
    "%matplotlib inline"
   ]
  },
  {
   "cell_type": "code",
   "execution_count": 21,
   "metadata": {},
   "outputs": [
    {
     "data": {
      "text/html": [
       "<div>\n",
       "<style scoped>\n",
       "    .dataframe tbody tr th:only-of-type {\n",
       "        vertical-align: middle;\n",
       "    }\n",
       "\n",
       "    .dataframe tbody tr th {\n",
       "        vertical-align: top;\n",
       "    }\n",
       "\n",
       "    .dataframe thead th {\n",
       "        text-align: right;\n",
       "    }\n",
       "</style>\n",
       "<table border=\"1\" class=\"dataframe\">\n",
       "  <thead>\n",
       "    <tr style=\"text-align: right;\">\n",
       "      <th></th>\n",
       "      <th>group</th>\n",
       "      <th>response_att</th>\n",
       "      <th>perdelta_days_between_visits_15_30d</th>\n",
       "      <th>k_var_days_between_visits_1m</th>\n",
       "      <th>k_var_days_between_visits_3m</th>\n",
       "      <th>k_var_days_between_visits_15d</th>\n",
       "      <th>cheque_count_6m_g48</th>\n",
       "      <th>response_sms</th>\n",
       "      <th>cheque_count_6m_g40</th>\n",
       "      <th>k_var_count_per_cheque_6m_g27</th>\n",
       "      <th>k_var_disc_share_6m_g27</th>\n",
       "      <th>response_viber</th>\n",
       "      <th>k_var_discount_depth_1m</th>\n",
       "      <th>k_var_sku_price_6m_g48</th>\n",
       "      <th>cheque_count_6m_g25</th>\n",
       "      <th>cheque_count_12m_g41</th>\n",
       "      <th>cheque_count_6m_g41</th>\n",
       "      <th>cheque_count_12m_g32</th>\n",
       "      <th>sale_count_12m_g54</th>\n",
       "    </tr>\n",
       "  </thead>\n",
       "  <tbody>\n",
       "    <tr>\n",
       "      <th>0</th>\n",
       "      <td>1</td>\n",
       "      <td>0</td>\n",
       "      <td>1.3393</td>\n",
       "      <td>0.6479</td>\n",
       "      <td>0.8240</td>\n",
       "      <td>0.4554</td>\n",
       "      <td>6.0</td>\n",
       "      <td>0.923077</td>\n",
       "      <td>5.0</td>\n",
       "      <td>0.4845</td>\n",
       "      <td>0.6366</td>\n",
       "      <td>0.071429</td>\n",
       "      <td>0.4864</td>\n",
       "      <td>0.6718</td>\n",
       "      <td>9.0</td>\n",
       "      <td>6.0</td>\n",
       "      <td>1.0</td>\n",
       "      <td>3.0</td>\n",
       "      <td>16.0</td>\n",
       "    </tr>\n",
       "    <tr>\n",
       "      <th>1</th>\n",
       "      <td>1</td>\n",
       "      <td>0</td>\n",
       "      <td>0.0000</td>\n",
       "      <td>0.0000</td>\n",
       "      <td>1.0027</td>\n",
       "      <td>0.0000</td>\n",
       "      <td>1.0</td>\n",
       "      <td>1.000000</td>\n",
       "      <td>3.0</td>\n",
       "      <td>0.0000</td>\n",
       "      <td>0.0000</td>\n",
       "      <td>0.000000</td>\n",
       "      <td>0.0000</td>\n",
       "      <td>0.0000</td>\n",
       "      <td>2.0</td>\n",
       "      <td>1.0</td>\n",
       "      <td>1.0</td>\n",
       "      <td>1.0</td>\n",
       "      <td>2.0</td>\n",
       "    </tr>\n",
       "    <tr>\n",
       "      <th>2</th>\n",
       "      <td>0</td>\n",
       "      <td>0</td>\n",
       "      <td>0.0000</td>\n",
       "      <td>0.0000</td>\n",
       "      <td>0.5559</td>\n",
       "      <td>0.0000</td>\n",
       "      <td>6.0</td>\n",
       "      <td>1.000000</td>\n",
       "      <td>7.0</td>\n",
       "      <td>0.5762</td>\n",
       "      <td>0.8560</td>\n",
       "      <td>0.250000</td>\n",
       "      <td>0.1201</td>\n",
       "      <td>0.2407</td>\n",
       "      <td>9.0</td>\n",
       "      <td>14.0</td>\n",
       "      <td>8.0</td>\n",
       "      <td>4.0</td>\n",
       "      <td>109.0</td>\n",
       "    </tr>\n",
       "    <tr>\n",
       "      <th>3</th>\n",
       "      <td>1</td>\n",
       "      <td>0</td>\n",
       "      <td>0.0000</td>\n",
       "      <td>0.0000</td>\n",
       "      <td>0.7432</td>\n",
       "      <td>0.0000</td>\n",
       "      <td>3.0</td>\n",
       "      <td>0.909091</td>\n",
       "      <td>4.0</td>\n",
       "      <td>0.3295</td>\n",
       "      <td>0.5780</td>\n",
       "      <td>0.000000</td>\n",
       "      <td>0.0000</td>\n",
       "      <td>0.1028</td>\n",
       "      <td>11.0</td>\n",
       "      <td>8.0</td>\n",
       "      <td>2.0</td>\n",
       "      <td>2.0</td>\n",
       "      <td>39.0</td>\n",
       "    </tr>\n",
       "    <tr>\n",
       "      <th>4</th>\n",
       "      <td>1</td>\n",
       "      <td>0</td>\n",
       "      <td>0.0000</td>\n",
       "      <td>0.4714</td>\n",
       "      <td>0.9980</td>\n",
       "      <td>0.4714</td>\n",
       "      <td>4.0</td>\n",
       "      <td>1.000000</td>\n",
       "      <td>8.0</td>\n",
       "      <td>0.7526</td>\n",
       "      <td>0.9058</td>\n",
       "      <td>0.100000</td>\n",
       "      <td>0.4903</td>\n",
       "      <td>0.2195</td>\n",
       "      <td>2.0</td>\n",
       "      <td>3.0</td>\n",
       "      <td>2.0</td>\n",
       "      <td>0.0</td>\n",
       "      <td>25.0</td>\n",
       "    </tr>\n",
       "  </tbody>\n",
       "</table>\n",
       "</div>"
      ],
      "text/plain": [
       "   group  response_att  perdelta_days_between_visits_15_30d  \\\n",
       "0      1             0                               1.3393   \n",
       "1      1             0                               0.0000   \n",
       "2      0             0                               0.0000   \n",
       "3      1             0                               0.0000   \n",
       "4      1             0                               0.0000   \n",
       "\n",
       "   k_var_days_between_visits_1m  k_var_days_between_visits_3m  \\\n",
       "0                        0.6479                        0.8240   \n",
       "1                        0.0000                        1.0027   \n",
       "2                        0.0000                        0.5559   \n",
       "3                        0.0000                        0.7432   \n",
       "4                        0.4714                        0.9980   \n",
       "\n",
       "   k_var_days_between_visits_15d  cheque_count_6m_g48  response_sms  \\\n",
       "0                         0.4554                  6.0      0.923077   \n",
       "1                         0.0000                  1.0      1.000000   \n",
       "2                         0.0000                  6.0      1.000000   \n",
       "3                         0.0000                  3.0      0.909091   \n",
       "4                         0.4714                  4.0      1.000000   \n",
       "\n",
       "   cheque_count_6m_g40  k_var_count_per_cheque_6m_g27  \\\n",
       "0                  5.0                         0.4845   \n",
       "1                  3.0                         0.0000   \n",
       "2                  7.0                         0.5762   \n",
       "3                  4.0                         0.3295   \n",
       "4                  8.0                         0.7526   \n",
       "\n",
       "   k_var_disc_share_6m_g27  response_viber  k_var_discount_depth_1m  \\\n",
       "0                   0.6366        0.071429                   0.4864   \n",
       "1                   0.0000        0.000000                   0.0000   \n",
       "2                   0.8560        0.250000                   0.1201   \n",
       "3                   0.5780        0.000000                   0.0000   \n",
       "4                   0.9058        0.100000                   0.4903   \n",
       "\n",
       "   k_var_sku_price_6m_g48  cheque_count_6m_g25  cheque_count_12m_g41  \\\n",
       "0                  0.6718                  9.0                   6.0   \n",
       "1                  0.0000                  2.0                   1.0   \n",
       "2                  0.2407                  9.0                  14.0   \n",
       "3                  0.1028                 11.0                   8.0   \n",
       "4                  0.2195                  2.0                   3.0   \n",
       "\n",
       "   cheque_count_6m_g41  cheque_count_12m_g32  sale_count_12m_g54  \n",
       "0                  1.0                   3.0                16.0  \n",
       "1                  1.0                   1.0                 2.0  \n",
       "2                  8.0                   4.0               109.0  \n",
       "3                  2.0                   2.0                39.0  \n",
       "4                  2.0                   0.0                25.0  "
      ]
     },
     "execution_count": 21,
     "metadata": {},
     "output_type": "execute_result"
    }
   ],
   "source": [
    "data = read_csv('dataset.csv')\n",
    "y = data['response_att']\n",
    "X = data.copy()\n",
    "\n",
    "features_list = ['group', 'response_att',\n",
    " 'perdelta_days_between_visits_15_30d',\n",
    " 'k_var_days_between_visits_1m',\n",
    " 'k_var_days_between_visits_3m',\n",
    " 'k_var_days_between_visits_15d',\n",
    " 'cheque_count_6m_g48',\n",
    " 'response_sms',\n",
    " 'cheque_count_6m_g40',\n",
    " 'k_var_count_per_cheque_6m_g27',\n",
    " 'k_var_disc_share_6m_g27',\n",
    " 'response_viber',\n",
    " 'k_var_discount_depth_1m',\n",
    " 'k_var_sku_price_6m_g48',\n",
    " 'cheque_count_6m_g25',\n",
    " 'cheque_count_12m_g41',\n",
    " 'cheque_count_6m_g41',\n",
    " 'cheque_count_12m_g32',\n",
    " 'sale_count_12m_g54',\n",
    "]\n",
    "\n",
    "X = X.filter(features_list)\n",
    "pd.set_option('display.max_columns', 500)\n",
    "X.head(5)"
   ]
  },
  {
   "cell_type": "code",
   "execution_count": 22,
   "metadata": {},
   "outputs": [],
   "source": [
    "X_train, X_test, y_train, y_test = train_test_split(X, y, test_size=0.3, random_state=10)"
   ]
  },
  {
   "cell_type": "code",
   "execution_count": 4,
   "metadata": {},
   "outputs": [
    {
     "name": "stdout",
     "output_type": "stream",
     "text": [
      "You are currently using version 1.5.0 of the Azure ML SDK\n",
      "\n",
      "Workspace name: team19\n"
     ]
    }
   ],
   "source": [
    "import azureml.core\n",
    "from azureml.core.authentication import InteractiveLoginAuthentication\n",
    "from azureml.core import Experiment, Workspace\n",
    "\n",
    "# Check core SDK version number\n",
    "print(\"You are currently using version\", azureml.core.VERSION, \"of the Azure ML SDK\")\n",
    "print(\"\")\n",
    "\n",
    "# Log In to Azure ML Workspace\n",
    "interactive_auth = InteractiveLoginAuthentication(tenant_id=\"76f90eb1-fb9a-4446-9875-4d323d6455ad\")\n",
    "\n",
    "ws = Workspace.from_config(auth=interactive_auth)\n",
    "print('Workspace name: ' + ws.name, sep='\\n')"
   ]
  },
  {
   "cell_type": "code",
   "execution_count": 5,
   "metadata": {},
   "outputs": [],
   "source": [
    "def custom_metric(answers, take_top_ratio=0.25):\n",
    "    answers.sort_values(by='uplift', inplace=True, ascending=False)\n",
    "    \n",
    "    n_samples = int(np.ceil(answers.shape[0] * take_top_ratio))\n",
    "    answers = answers.iloc[:n_samples, :]\n",
    "    answers_test = answers[answers['group'] == 1]['response_att'].sum() / \\\n",
    "                   answers[answers['group'] == 1].shape[0]\n",
    "    answers_control = answers[answers['group'] == 0]['response_att'].sum() / \\\n",
    "                      answers[answers['group'] == 0].shape[0]\n",
    "    return (answers_test - answers_control) * 100"
   ]
  },
  {
   "cell_type": "code",
   "execution_count": 15,
   "metadata": {},
   "outputs": [],
   "source": [
    "# Get an experiment object from Azure Machine Learning"
   ]
  },
  {
   "cell_type": "code",
   "execution_count": 16,
   "metadata": {},
   "outputs": [],
   "source": [
    "#i = 0"
   ]
  },
  {
   "cell_type": "code",
   "execution_count": 26,
   "metadata": {},
   "outputs": [
    {
     "name": "stdout",
     "output_type": "stream",
     "text": [
      "lr 0.2\n",
      "depth 2\n",
      "n_estimators 50\n",
      "seed 768\n"
     ]
    },
    {
     "name": "stderr",
     "output_type": "stream",
     "text": [
      "/anaconda/envs/azureml_py36_automl/lib/python3.6/site-packages/ipykernel_launcher.py:55: UserWarning:\n",
      "\n",
      "It is recommended to use this approach on treatment balanced data. Current sample size is unbalanced.\n",
      "\n"
     ]
    },
    {
     "name": "stdout",
     "output_type": "stream",
     "text": [
      "Submit data shape: (206109, 1)\n",
      "\n",
      "score  6.315880298100263\n",
      "lr 0.2\n",
      "depth 2\n",
      "n_estimators 55\n",
      "seed 625\n"
     ]
    },
    {
     "name": "stderr",
     "output_type": "stream",
     "text": [
      "/anaconda/envs/azureml_py36_automl/lib/python3.6/site-packages/ipykernel_launcher.py:55: UserWarning:\n",
      "\n",
      "It is recommended to use this approach on treatment balanced data. Current sample size is unbalanced.\n",
      "\n"
     ]
    },
    {
     "name": "stdout",
     "output_type": "stream",
     "text": [
      "Submit data shape: (206109, 1)\n",
      "\n",
      "score  6.326713948177434\n",
      "lr 0.2\n",
      "depth 2\n",
      "n_estimators 60\n",
      "seed 5786\n"
     ]
    },
    {
     "name": "stderr",
     "output_type": "stream",
     "text": [
      "/anaconda/envs/azureml_py36_automl/lib/python3.6/site-packages/ipykernel_launcher.py:55: UserWarning:\n",
      "\n",
      "It is recommended to use this approach on treatment balanced data. Current sample size is unbalanced.\n",
      "\n"
     ]
    },
    {
     "name": "stdout",
     "output_type": "stream",
     "text": [
      "Submit data shape: (206109, 1)\n",
      "\n",
      "score  6.354368078385147\n",
      "lr 0.2\n",
      "depth 2\n",
      "n_estimators 65\n",
      "seed 7229\n"
     ]
    },
    {
     "name": "stderr",
     "output_type": "stream",
     "text": [
      "/anaconda/envs/azureml_py36_automl/lib/python3.6/site-packages/ipykernel_launcher.py:55: UserWarning:\n",
      "\n",
      "It is recommended to use this approach on treatment balanced data. Current sample size is unbalanced.\n",
      "\n"
     ]
    },
    {
     "name": "stdout",
     "output_type": "stream",
     "text": [
      "Submit data shape: (206109, 1)\n",
      "\n",
      "score  6.362267802758323\n",
      "lr 0.2\n",
      "depth 2\n",
      "n_estimators 70\n",
      "seed 9835\n"
     ]
    },
    {
     "name": "stderr",
     "output_type": "stream",
     "text": [
      "/anaconda/envs/azureml_py36_automl/lib/python3.6/site-packages/ipykernel_launcher.py:55: UserWarning:\n",
      "\n",
      "It is recommended to use this approach on treatment balanced data. Current sample size is unbalanced.\n",
      "\n"
     ]
    },
    {
     "name": "stdout",
     "output_type": "stream",
     "text": [
      "Submit data shape: (206109, 1)\n",
      "\n",
      "score  6.331017105137812\n",
      "lr 0.2\n",
      "depth 2\n",
      "n_estimators 75\n",
      "seed 6504\n"
     ]
    },
    {
     "name": "stderr",
     "output_type": "stream",
     "text": [
      "/anaconda/envs/azureml_py36_automl/lib/python3.6/site-packages/ipykernel_launcher.py:55: UserWarning:\n",
      "\n",
      "It is recommended to use this approach on treatment balanced data. Current sample size is unbalanced.\n",
      "\n"
     ]
    },
    {
     "name": "stdout",
     "output_type": "stream",
     "text": [
      "Submit data shape: (206109, 1)\n",
      "\n",
      "score  6.3438188407680896\n",
      "lr 0.2\n",
      "depth 2\n",
      "n_estimators 80\n",
      "seed 9494\n"
     ]
    },
    {
     "name": "stderr",
     "output_type": "stream",
     "text": [
      "/anaconda/envs/azureml_py36_automl/lib/python3.6/site-packages/ipykernel_launcher.py:55: UserWarning:\n",
      "\n",
      "It is recommended to use this approach on treatment balanced data. Current sample size is unbalanced.\n",
      "\n"
     ]
    },
    {
     "name": "stdout",
     "output_type": "stream",
     "text": [
      "Submit data shape: (206109, 1)\n",
      "\n",
      "score  6.3318038749922225\n",
      "lr 0.2\n",
      "depth 2\n",
      "n_estimators 85\n",
      "seed 2480\n"
     ]
    },
    {
     "name": "stderr",
     "output_type": "stream",
     "text": [
      "/anaconda/envs/azureml_py36_automl/lib/python3.6/site-packages/ipykernel_launcher.py:55: UserWarning:\n",
      "\n",
      "It is recommended to use this approach on treatment balanced data. Current sample size is unbalanced.\n",
      "\n"
     ]
    },
    {
     "name": "stdout",
     "output_type": "stream",
     "text": [
      "Submit data shape: (206109, 1)\n",
      "\n",
      "score  6.329021333748452\n",
      "lr 0.2\n",
      "depth 2\n",
      "n_estimators 90\n",
      "seed 4751\n"
     ]
    },
    {
     "name": "stderr",
     "output_type": "stream",
     "text": [
      "/anaconda/envs/azureml_py36_automl/lib/python3.6/site-packages/ipykernel_launcher.py:55: UserWarning:\n",
      "\n",
      "It is recommended to use this approach on treatment balanced data. Current sample size is unbalanced.\n",
      "\n"
     ]
    },
    {
     "name": "stdout",
     "output_type": "stream",
     "text": [
      "Submit data shape: (206109, 1)\n",
      "\n",
      "score  6.353910982779179\n",
      "lr 0.2\n",
      "depth 2\n",
      "n_estimators 95\n",
      "seed 5974\n"
     ]
    },
    {
     "name": "stderr",
     "output_type": "stream",
     "text": [
      "/anaconda/envs/azureml_py36_automl/lib/python3.6/site-packages/ipykernel_launcher.py:55: UserWarning:\n",
      "\n",
      "It is recommended to use this approach on treatment balanced data. Current sample size is unbalanced.\n",
      "\n"
     ]
    },
    {
     "name": "stdout",
     "output_type": "stream",
     "text": [
      "Submit data shape: (206109, 1)\n",
      "\n",
      "score  6.352701547107656\n",
      "lr 0.2\n",
      "depth 2\n",
      "n_estimators 100\n",
      "seed 6028\n"
     ]
    },
    {
     "name": "stderr",
     "output_type": "stream",
     "text": [
      "/anaconda/envs/azureml_py36_automl/lib/python3.6/site-packages/ipykernel_launcher.py:55: UserWarning:\n",
      "\n",
      "It is recommended to use this approach on treatment balanced data. Current sample size is unbalanced.\n",
      "\n"
     ]
    },
    {
     "name": "stdout",
     "output_type": "stream",
     "text": [
      "Submit data shape: (206109, 1)\n",
      "\n",
      "score  6.342565971382241\n",
      "lr 0.2\n",
      "depth 2\n",
      "n_estimators 105\n",
      "seed 5747\n"
     ]
    },
    {
     "name": "stderr",
     "output_type": "stream",
     "text": [
      "/anaconda/envs/azureml_py36_automl/lib/python3.6/site-packages/ipykernel_launcher.py:55: UserWarning:\n",
      "\n",
      "It is recommended to use this approach on treatment balanced data. Current sample size is unbalanced.\n",
      "\n"
     ]
    },
    {
     "name": "stdout",
     "output_type": "stream",
     "text": [
      "Submit data shape: (206109, 1)\n",
      "\n",
      "score  6.299686177172275\n",
      "lr 0.2\n",
      "depth 2\n",
      "n_estimators 110\n",
      "seed 524\n"
     ]
    },
    {
     "name": "stderr",
     "output_type": "stream",
     "text": [
      "/anaconda/envs/azureml_py36_automl/lib/python3.6/site-packages/ipykernel_launcher.py:55: UserWarning:\n",
      "\n",
      "It is recommended to use this approach on treatment balanced data. Current sample size is unbalanced.\n",
      "\n"
     ]
    },
    {
     "name": "stdout",
     "output_type": "stream",
     "text": [
      "Submit data shape: (206109, 1)\n",
      "\n",
      "score  6.314724849211373\n",
      "lr 0.2\n",
      "depth 2\n",
      "n_estimators 115\n",
      "seed 6797\n"
     ]
    },
    {
     "name": "stderr",
     "output_type": "stream",
     "text": [
      "/anaconda/envs/azureml_py36_automl/lib/python3.6/site-packages/ipykernel_launcher.py:55: UserWarning:\n",
      "\n",
      "It is recommended to use this approach on treatment balanced data. Current sample size is unbalanced.\n",
      "\n"
     ]
    },
    {
     "name": "stdout",
     "output_type": "stream",
     "text": [
      "Submit data shape: (206109, 1)\n",
      "\n",
      "score  6.333710095886319\n",
      "lr 0.2\n",
      "depth 2\n",
      "n_estimators 120\n",
      "seed 585\n"
     ]
    },
    {
     "name": "stderr",
     "output_type": "stream",
     "text": [
      "/anaconda/envs/azureml_py36_automl/lib/python3.6/site-packages/ipykernel_launcher.py:55: UserWarning:\n",
      "\n",
      "It is recommended to use this approach on treatment balanced data. Current sample size is unbalanced.\n",
      "\n"
     ]
    },
    {
     "name": "stdout",
     "output_type": "stream",
     "text": [
      "Submit data shape: (206109, 1)\n",
      "\n",
      "score  6.348700732073532\n",
      "lr 0.2\n",
      "depth 2\n",
      "n_estimators 125\n",
      "seed 4322\n"
     ]
    },
    {
     "name": "stderr",
     "output_type": "stream",
     "text": [
      "/anaconda/envs/azureml_py36_automl/lib/python3.6/site-packages/ipykernel_launcher.py:55: UserWarning:\n",
      "\n",
      "It is recommended to use this approach on treatment balanced data. Current sample size is unbalanced.\n",
      "\n"
     ]
    },
    {
     "name": "stdout",
     "output_type": "stream",
     "text": [
      "Submit data shape: (206109, 1)\n",
      "\n",
      "score  6.386955095589897\n",
      "lr 0.2\n",
      "depth 2\n",
      "n_estimators 130\n",
      "seed 986\n"
     ]
    },
    {
     "name": "stderr",
     "output_type": "stream",
     "text": [
      "/anaconda/envs/azureml_py36_automl/lib/python3.6/site-packages/ipykernel_launcher.py:55: UserWarning:\n",
      "\n",
      "It is recommended to use this approach on treatment balanced data. Current sample size is unbalanced.\n",
      "\n"
     ]
    },
    {
     "name": "stdout",
     "output_type": "stream",
     "text": [
      "Submit data shape: (206109, 1)\n",
      "\n",
      "score  6.361967550078037\n",
      "lr 0.2\n",
      "depth 2\n",
      "n_estimators 135\n",
      "seed 2598\n"
     ]
    },
    {
     "name": "stderr",
     "output_type": "stream",
     "text": [
      "/anaconda/envs/azureml_py36_automl/lib/python3.6/site-packages/ipykernel_launcher.py:55: UserWarning:\n",
      "\n",
      "It is recommended to use this approach on treatment balanced data. Current sample size is unbalanced.\n",
      "\n"
     ]
    },
    {
     "name": "stdout",
     "output_type": "stream",
     "text": [
      "Submit data shape: (206109, 1)\n",
      "\n",
      "score  6.336498213163033\n",
      "lr 0.2\n",
      "depth 2\n",
      "n_estimators 140\n",
      "seed 8591\n"
     ]
    },
    {
     "name": "stderr",
     "output_type": "stream",
     "text": [
      "/anaconda/envs/azureml_py36_automl/lib/python3.6/site-packages/ipykernel_launcher.py:55: UserWarning:\n",
      "\n",
      "It is recommended to use this approach on treatment balanced data. Current sample size is unbalanced.\n",
      "\n"
     ]
    },
    {
     "name": "stdout",
     "output_type": "stream",
     "text": [
      "Submit data shape: (206109, 1)\n",
      "\n",
      "score  6.329768823430304\n",
      "lr 0.2\n",
      "depth 2\n",
      "n_estimators 145\n",
      "seed 2013\n"
     ]
    },
    {
     "name": "stderr",
     "output_type": "stream",
     "text": [
      "/anaconda/envs/azureml_py36_automl/lib/python3.6/site-packages/ipykernel_launcher.py:55: UserWarning:\n",
      "\n",
      "It is recommended to use this approach on treatment balanced data. Current sample size is unbalanced.\n",
      "\n"
     ]
    },
    {
     "name": "stdout",
     "output_type": "stream",
     "text": [
      "Submit data shape: (206109, 1)\n",
      "\n",
      "score  6.327707036904109\n",
      "lr 0.2\n",
      "depth 3\n",
      "n_estimators 50\n",
      "seed 7831\n"
     ]
    },
    {
     "name": "stderr",
     "output_type": "stream",
     "text": [
      "/anaconda/envs/azureml_py36_automl/lib/python3.6/site-packages/ipykernel_launcher.py:55: UserWarning:\n",
      "\n",
      "It is recommended to use this approach on treatment balanced data. Current sample size is unbalanced.\n",
      "\n"
     ]
    },
    {
     "name": "stdout",
     "output_type": "stream",
     "text": [
      "Submit data shape: (206109, 1)\n",
      "\n",
      "score  6.405612542543765\n",
      "lr 0.2\n",
      "depth 3\n",
      "n_estimators 55\n",
      "seed 2573\n"
     ]
    },
    {
     "name": "stderr",
     "output_type": "stream",
     "text": [
      "/anaconda/envs/azureml_py36_automl/lib/python3.6/site-packages/ipykernel_launcher.py:55: UserWarning:\n",
      "\n",
      "It is recommended to use this approach on treatment balanced data. Current sample size is unbalanced.\n",
      "\n"
     ]
    },
    {
     "name": "stdout",
     "output_type": "stream",
     "text": [
      "Submit data shape: (206109, 1)\n",
      "\n",
      "score  6.483177759532782\n",
      "lr 0.2\n",
      "depth 3\n",
      "n_estimators 60\n",
      "seed 1262\n"
     ]
    },
    {
     "name": "stderr",
     "output_type": "stream",
     "text": [
      "/anaconda/envs/azureml_py36_automl/lib/python3.6/site-packages/ipykernel_launcher.py:55: UserWarning:\n",
      "\n",
      "It is recommended to use this approach on treatment balanced data. Current sample size is unbalanced.\n",
      "\n"
     ]
    },
    {
     "name": "stdout",
     "output_type": "stream",
     "text": [
      "Submit data shape: (206109, 1)\n",
      "\n",
      "score  6.464058482673382\n",
      "lr 0.2\n",
      "depth 3\n",
      "n_estimators 65\n",
      "seed 6702\n"
     ]
    },
    {
     "name": "stderr",
     "output_type": "stream",
     "text": [
      "/anaconda/envs/azureml_py36_automl/lib/python3.6/site-packages/ipykernel_launcher.py:55: UserWarning:\n",
      "\n",
      "It is recommended to use this approach on treatment balanced data. Current sample size is unbalanced.\n",
      "\n"
     ]
    },
    {
     "name": "stdout",
     "output_type": "stream",
     "text": [
      "Submit data shape: (206109, 1)\n",
      "\n",
      "score  6.473809381187437\n",
      "lr 0.2\n",
      "depth 3\n",
      "n_estimators 70\n",
      "seed 3796\n"
     ]
    },
    {
     "name": "stderr",
     "output_type": "stream",
     "text": [
      "/anaconda/envs/azureml_py36_automl/lib/python3.6/site-packages/ipykernel_launcher.py:55: UserWarning:\n",
      "\n",
      "It is recommended to use this approach on treatment balanced data. Current sample size is unbalanced.\n",
      "\n"
     ]
    },
    {
     "name": "stdout",
     "output_type": "stream",
     "text": [
      "Submit data shape: (206109, 1)\n",
      "\n",
      "score  6.45391567583925\n",
      "lr 0.2\n",
      "depth 3\n",
      "n_estimators 75\n",
      "seed 2010\n"
     ]
    },
    {
     "name": "stderr",
     "output_type": "stream",
     "text": [
      "/anaconda/envs/azureml_py36_automl/lib/python3.6/site-packages/ipykernel_launcher.py:55: UserWarning:\n",
      "\n",
      "It is recommended to use this approach on treatment balanced data. Current sample size is unbalanced.\n",
      "\n"
     ]
    },
    {
     "name": "stdout",
     "output_type": "stream",
     "text": [
      "Submit data shape: (206109, 1)\n",
      "\n",
      "score  6.453545328862523\n",
      "lr 0.2\n",
      "depth 3\n",
      "n_estimators 80\n",
      "seed 9401\n"
     ]
    },
    {
     "name": "stderr",
     "output_type": "stream",
     "text": [
      "/anaconda/envs/azureml_py36_automl/lib/python3.6/site-packages/ipykernel_launcher.py:55: UserWarning:\n",
      "\n",
      "It is recommended to use this approach on treatment balanced data. Current sample size is unbalanced.\n",
      "\n"
     ]
    },
    {
     "name": "stdout",
     "output_type": "stream",
     "text": [
      "Submit data shape: (206109, 1)\n",
      "\n",
      "score  6.493360590659955\n",
      "lr 0.2\n",
      "depth 3\n",
      "n_estimators 85\n",
      "seed 7314\n"
     ]
    },
    {
     "name": "stderr",
     "output_type": "stream",
     "text": [
      "/anaconda/envs/azureml_py36_automl/lib/python3.6/site-packages/ipykernel_launcher.py:55: UserWarning:\n",
      "\n",
      "It is recommended to use this approach on treatment balanced data. Current sample size is unbalanced.\n",
      "\n"
     ]
    },
    {
     "name": "stdout",
     "output_type": "stream",
     "text": [
      "Submit data shape: (206109, 1)\n",
      "\n",
      "score  6.466692493589388\n",
      "lr 0.2\n",
      "depth 3\n",
      "n_estimators 90\n",
      "seed 1093\n"
     ]
    },
    {
     "name": "stderr",
     "output_type": "stream",
     "text": [
      "/anaconda/envs/azureml_py36_automl/lib/python3.6/site-packages/ipykernel_launcher.py:55: UserWarning:\n",
      "\n",
      "It is recommended to use this approach on treatment balanced data. Current sample size is unbalanced.\n",
      "\n"
     ]
    },
    {
     "name": "stdout",
     "output_type": "stream",
     "text": [
      "Submit data shape: (206109, 1)\n",
      "\n",
      "score  6.494294573861328\n",
      "lr 0.2\n",
      "depth 3\n",
      "n_estimators 95\n",
      "seed 8213\n"
     ]
    },
    {
     "name": "stderr",
     "output_type": "stream",
     "text": [
      "/anaconda/envs/azureml_py36_automl/lib/python3.6/site-packages/ipykernel_launcher.py:55: UserWarning:\n",
      "\n",
      "It is recommended to use this approach on treatment balanced data. Current sample size is unbalanced.\n",
      "\n"
     ]
    },
    {
     "name": "stdout",
     "output_type": "stream",
     "text": [
      "Submit data shape: (206109, 1)\n",
      "\n",
      "score  6.490016957639683\n",
      "lr 0.2\n",
      "depth 3\n",
      "n_estimators 100\n",
      "seed 3126\n"
     ]
    },
    {
     "name": "stderr",
     "output_type": "stream",
     "text": [
      "/anaconda/envs/azureml_py36_automl/lib/python3.6/site-packages/ipykernel_launcher.py:55: UserWarning:\n",
      "\n",
      "It is recommended to use this approach on treatment balanced data. Current sample size is unbalanced.\n",
      "\n"
     ]
    },
    {
     "name": "stdout",
     "output_type": "stream",
     "text": [
      "Submit data shape: (206109, 1)\n",
      "\n",
      "score  6.4721934149845675\n",
      "lr 0.2\n",
      "depth 3\n",
      "n_estimators 105\n",
      "seed 8911\n"
     ]
    },
    {
     "name": "stderr",
     "output_type": "stream",
     "text": [
      "/anaconda/envs/azureml_py36_automl/lib/python3.6/site-packages/ipykernel_launcher.py:55: UserWarning:\n",
      "\n",
      "It is recommended to use this approach on treatment balanced data. Current sample size is unbalanced.\n",
      "\n"
     ]
    },
    {
     "name": "stdout",
     "output_type": "stream",
     "text": [
      "Submit data shape: (206109, 1)\n",
      "\n",
      "score  6.464351328760867\n",
      "lr 0.2\n",
      "depth 3\n",
      "n_estimators 110\n",
      "seed 5673\n"
     ]
    },
    {
     "name": "stderr",
     "output_type": "stream",
     "text": [
      "/anaconda/envs/azureml_py36_automl/lib/python3.6/site-packages/ipykernel_launcher.py:55: UserWarning:\n",
      "\n",
      "It is recommended to use this approach on treatment balanced data. Current sample size is unbalanced.\n",
      "\n"
     ]
    },
    {
     "name": "stdout",
     "output_type": "stream",
     "text": [
      "Submit data shape: (206109, 1)\n",
      "\n",
      "score  6.485878286666874\n",
      "lr 0.2\n",
      "depth 3\n",
      "n_estimators 115\n",
      "seed 2169\n"
     ]
    },
    {
     "name": "stderr",
     "output_type": "stream",
     "text": [
      "/anaconda/envs/azureml_py36_automl/lib/python3.6/site-packages/ipykernel_launcher.py:55: UserWarning:\n",
      "\n",
      "It is recommended to use this approach on treatment balanced data. Current sample size is unbalanced.\n",
      "\n"
     ]
    },
    {
     "name": "stdout",
     "output_type": "stream",
     "text": [
      "Submit data shape: (206109, 1)\n",
      "\n",
      "score  6.500094793664696\n",
      "lr 0.2\n",
      "depth 3\n",
      "n_estimators 120\n",
      "seed 3071\n"
     ]
    },
    {
     "name": "stderr",
     "output_type": "stream",
     "text": [
      "/anaconda/envs/azureml_py36_automl/lib/python3.6/site-packages/ipykernel_launcher.py:55: UserWarning:\n",
      "\n",
      "It is recommended to use this approach on treatment balanced data. Current sample size is unbalanced.\n",
      "\n"
     ]
    },
    {
     "name": "stdout",
     "output_type": "stream",
     "text": [
      "Submit data shape: (206109, 1)\n",
      "\n",
      "score  6.4933529972188815\n",
      "lr 0.2\n",
      "depth 3\n",
      "n_estimators 125\n",
      "seed 2257\n"
     ]
    },
    {
     "name": "stderr",
     "output_type": "stream",
     "text": [
      "/anaconda/envs/azureml_py36_automl/lib/python3.6/site-packages/ipykernel_launcher.py:55: UserWarning:\n",
      "\n",
      "It is recommended to use this approach on treatment balanced data. Current sample size is unbalanced.\n",
      "\n"
     ]
    },
    {
     "name": "stdout",
     "output_type": "stream",
     "text": [
      "Submit data shape: (206109, 1)\n",
      "\n",
      "score  6.415596300057191\n",
      "lr 0.2\n",
      "depth 3\n",
      "n_estimators 130\n",
      "seed 8728\n"
     ]
    },
    {
     "name": "stderr",
     "output_type": "stream",
     "text": [
      "/anaconda/envs/azureml_py36_automl/lib/python3.6/site-packages/ipykernel_launcher.py:55: UserWarning:\n",
      "\n",
      "It is recommended to use this approach on treatment balanced data. Current sample size is unbalanced.\n",
      "\n"
     ]
    },
    {
     "name": "stdout",
     "output_type": "stream",
     "text": [
      "Submit data shape: (206109, 1)\n",
      "\n",
      "score  6.438986636789975\n",
      "lr 0.2\n",
      "depth 3\n",
      "n_estimators 135\n",
      "seed 7093\n"
     ]
    },
    {
     "name": "stderr",
     "output_type": "stream",
     "text": [
      "/anaconda/envs/azureml_py36_automl/lib/python3.6/site-packages/ipykernel_launcher.py:55: UserWarning:\n",
      "\n",
      "It is recommended to use this approach on treatment balanced data. Current sample size is unbalanced.\n",
      "\n"
     ]
    },
    {
     "name": "stdout",
     "output_type": "stream",
     "text": [
      "Submit data shape: (206109, 1)\n",
      "\n",
      "score  6.424854657277301\n",
      "lr 0.2\n",
      "depth 3\n",
      "n_estimators 140\n",
      "seed 6058\n"
     ]
    },
    {
     "name": "stderr",
     "output_type": "stream",
     "text": [
      "/anaconda/envs/azureml_py36_automl/lib/python3.6/site-packages/ipykernel_launcher.py:55: UserWarning:\n",
      "\n",
      "It is recommended to use this approach on treatment balanced data. Current sample size is unbalanced.\n",
      "\n"
     ]
    },
    {
     "name": "stdout",
     "output_type": "stream",
     "text": [
      "Submit data shape: (206109, 1)\n",
      "\n",
      "score  6.4485879389837795\n",
      "lr 0.2\n",
      "depth 3\n",
      "n_estimators 145\n",
      "seed 5676\n"
     ]
    },
    {
     "name": "stderr",
     "output_type": "stream",
     "text": [
      "/anaconda/envs/azureml_py36_automl/lib/python3.6/site-packages/ipykernel_launcher.py:55: UserWarning:\n",
      "\n",
      "It is recommended to use this approach on treatment balanced data. Current sample size is unbalanced.\n",
      "\n"
     ]
    },
    {
     "name": "stdout",
     "output_type": "stream",
     "text": [
      "Submit data shape: (206109, 1)\n",
      "\n",
      "score  6.444815953439886\n",
      "lr 0.2\n",
      "depth 4\n",
      "n_estimators 50\n",
      "seed 6666\n"
     ]
    },
    {
     "name": "stderr",
     "output_type": "stream",
     "text": [
      "/anaconda/envs/azureml_py36_automl/lib/python3.6/site-packages/ipykernel_launcher.py:55: UserWarning:\n",
      "\n",
      "It is recommended to use this approach on treatment balanced data. Current sample size is unbalanced.\n",
      "\n"
     ]
    },
    {
     "name": "stdout",
     "output_type": "stream",
     "text": [
      "Submit data shape: (206109, 1)\n",
      "\n",
      "score  6.195421904723378\n",
      "lr 0.2\n",
      "depth 4\n",
      "n_estimators 55\n",
      "seed 789\n"
     ]
    },
    {
     "name": "stderr",
     "output_type": "stream",
     "text": [
      "/anaconda/envs/azureml_py36_automl/lib/python3.6/site-packages/ipykernel_launcher.py:55: UserWarning:\n",
      "\n",
      "It is recommended to use this approach on treatment balanced data. Current sample size is unbalanced.\n",
      "\n"
     ]
    },
    {
     "name": "stdout",
     "output_type": "stream",
     "text": [
      "Submit data shape: (206109, 1)\n",
      "\n",
      "score  6.217662862758286\n",
      "lr 0.2\n",
      "depth 4\n",
      "n_estimators 60\n",
      "seed 759\n"
     ]
    },
    {
     "name": "stderr",
     "output_type": "stream",
     "text": [
      "/anaconda/envs/azureml_py36_automl/lib/python3.6/site-packages/ipykernel_launcher.py:55: UserWarning:\n",
      "\n",
      "It is recommended to use this approach on treatment balanced data. Current sample size is unbalanced.\n",
      "\n"
     ]
    },
    {
     "name": "stdout",
     "output_type": "stream",
     "text": [
      "Submit data shape: (206109, 1)\n",
      "\n",
      "score  6.214326011681842\n",
      "lr 0.2\n",
      "depth 4\n",
      "n_estimators 65\n",
      "seed 4924\n"
     ]
    },
    {
     "name": "stderr",
     "output_type": "stream",
     "text": [
      "/anaconda/envs/azureml_py36_automl/lib/python3.6/site-packages/ipykernel_launcher.py:55: UserWarning:\n",
      "\n",
      "It is recommended to use this approach on treatment balanced data. Current sample size is unbalanced.\n",
      "\n"
     ]
    },
    {
     "name": "stdout",
     "output_type": "stream",
     "text": [
      "Submit data shape: (206109, 1)\n",
      "\n",
      "score  6.189341787669409\n",
      "lr 0.2\n",
      "depth 4\n",
      "n_estimators 70\n",
      "seed 3909\n"
     ]
    },
    {
     "name": "stderr",
     "output_type": "stream",
     "text": [
      "/anaconda/envs/azureml_py36_automl/lib/python3.6/site-packages/ipykernel_launcher.py:55: UserWarning:\n",
      "\n",
      "It is recommended to use this approach on treatment balanced data. Current sample size is unbalanced.\n",
      "\n"
     ]
    },
    {
     "name": "stdout",
     "output_type": "stream",
     "text": [
      "Submit data shape: (206109, 1)\n",
      "\n",
      "score  6.2713677498010325\n",
      "lr 0.2\n",
      "depth 4\n",
      "n_estimators 75\n",
      "seed 2216\n"
     ]
    },
    {
     "name": "stderr",
     "output_type": "stream",
     "text": [
      "/anaconda/envs/azureml_py36_automl/lib/python3.6/site-packages/ipykernel_launcher.py:55: UserWarning:\n",
      "\n",
      "It is recommended to use this approach on treatment balanced data. Current sample size is unbalanced.\n",
      "\n"
     ]
    },
    {
     "name": "stdout",
     "output_type": "stream",
     "text": [
      "Submit data shape: (206109, 1)\n",
      "\n",
      "score  6.2518557136155755\n",
      "lr 0.2\n",
      "depth 4\n",
      "n_estimators 80\n",
      "seed 7689\n"
     ]
    },
    {
     "name": "stderr",
     "output_type": "stream",
     "text": [
      "/anaconda/envs/azureml_py36_automl/lib/python3.6/site-packages/ipykernel_launcher.py:55: UserWarning:\n",
      "\n",
      "It is recommended to use this approach on treatment balanced data. Current sample size is unbalanced.\n",
      "\n"
     ]
    },
    {
     "name": "stdout",
     "output_type": "stream",
     "text": [
      "Submit data shape: (206109, 1)\n",
      "\n",
      "score  6.255356134828044\n",
      "lr 0.2\n",
      "depth 4\n",
      "n_estimators 85\n",
      "seed 3676\n"
     ]
    },
    {
     "name": "stderr",
     "output_type": "stream",
     "text": [
      "/anaconda/envs/azureml_py36_automl/lib/python3.6/site-packages/ipykernel_launcher.py:55: UserWarning:\n",
      "\n",
      "It is recommended to use this approach on treatment balanced data. Current sample size is unbalanced.\n",
      "\n"
     ]
    },
    {
     "name": "stdout",
     "output_type": "stream",
     "text": [
      "Submit data shape: (206109, 1)\n",
      "\n",
      "score  6.208170652904569\n",
      "lr 0.2\n",
      "depth 4\n",
      "n_estimators 90\n",
      "seed 7399\n"
     ]
    },
    {
     "name": "stderr",
     "output_type": "stream",
     "text": [
      "/anaconda/envs/azureml_py36_automl/lib/python3.6/site-packages/ipykernel_launcher.py:55: UserWarning:\n",
      "\n",
      "It is recommended to use this approach on treatment balanced data. Current sample size is unbalanced.\n",
      "\n"
     ]
    },
    {
     "name": "stdout",
     "output_type": "stream",
     "text": [
      "Submit data shape: (206109, 1)\n",
      "\n",
      "score  6.230247401104824\n",
      "lr 0.2\n",
      "depth 4\n",
      "n_estimators 95\n",
      "seed 1706\n"
     ]
    },
    {
     "name": "stderr",
     "output_type": "stream",
     "text": [
      "/anaconda/envs/azureml_py36_automl/lib/python3.6/site-packages/ipykernel_launcher.py:55: UserWarning:\n",
      "\n",
      "It is recommended to use this approach on treatment balanced data. Current sample size is unbalanced.\n",
      "\n"
     ]
    },
    {
     "name": "stdout",
     "output_type": "stream",
     "text": [
      "Submit data shape: (206109, 1)\n",
      "\n",
      "score  6.254551295881602\n",
      "lr 0.2\n",
      "depth 4\n",
      "n_estimators 100\n",
      "seed 4356\n"
     ]
    },
    {
     "name": "stderr",
     "output_type": "stream",
     "text": [
      "/anaconda/envs/azureml_py36_automl/lib/python3.6/site-packages/ipykernel_launcher.py:55: UserWarning:\n",
      "\n",
      "It is recommended to use this approach on treatment balanced data. Current sample size is unbalanced.\n",
      "\n"
     ]
    },
    {
     "name": "stdout",
     "output_type": "stream",
     "text": [
      "Submit data shape: (206109, 1)\n",
      "\n",
      "score  6.241700779354612\n",
      "lr 0.2\n",
      "depth 4\n",
      "n_estimators 105\n",
      "seed 7816\n"
     ]
    },
    {
     "name": "stderr",
     "output_type": "stream",
     "text": [
      "/anaconda/envs/azureml_py36_automl/lib/python3.6/site-packages/ipykernel_launcher.py:55: UserWarning:\n",
      "\n",
      "It is recommended to use this approach on treatment balanced data. Current sample size is unbalanced.\n",
      "\n"
     ]
    },
    {
     "name": "stdout",
     "output_type": "stream",
     "text": [
      "Submit data shape: (206109, 1)\n",
      "\n",
      "score  6.2645444082930855\n",
      "lr 0.2\n",
      "depth 4\n",
      "n_estimators 110\n",
      "seed 4887\n"
     ]
    },
    {
     "name": "stderr",
     "output_type": "stream",
     "text": [
      "/anaconda/envs/azureml_py36_automl/lib/python3.6/site-packages/ipykernel_launcher.py:55: UserWarning:\n",
      "\n",
      "It is recommended to use this approach on treatment balanced data. Current sample size is unbalanced.\n",
      "\n"
     ]
    },
    {
     "name": "stdout",
     "output_type": "stream",
     "text": [
      "Submit data shape: (206109, 1)\n",
      "\n",
      "score  6.325009433870762\n",
      "lr 0.2\n",
      "depth 4\n",
      "n_estimators 115\n",
      "seed 4502\n"
     ]
    },
    {
     "name": "stderr",
     "output_type": "stream",
     "text": [
      "/anaconda/envs/azureml_py36_automl/lib/python3.6/site-packages/ipykernel_launcher.py:55: UserWarning:\n",
      "\n",
      "It is recommended to use this approach on treatment balanced data. Current sample size is unbalanced.\n",
      "\n"
     ]
    },
    {
     "name": "stdout",
     "output_type": "stream",
     "text": [
      "Submit data shape: (206109, 1)\n",
      "\n",
      "score  6.363795051962862\n",
      "lr 0.2\n",
      "depth 4\n",
      "n_estimators 120\n",
      "seed 4180\n"
     ]
    },
    {
     "name": "stderr",
     "output_type": "stream",
     "text": [
      "/anaconda/envs/azureml_py36_automl/lib/python3.6/site-packages/ipykernel_launcher.py:55: UserWarning:\n",
      "\n",
      "It is recommended to use this approach on treatment balanced data. Current sample size is unbalanced.\n",
      "\n"
     ]
    },
    {
     "name": "stdout",
     "output_type": "stream",
     "text": [
      "Submit data shape: (206109, 1)\n",
      "\n",
      "score  6.30357005058258\n",
      "lr 0.2\n",
      "depth 4\n",
      "n_estimators 125\n",
      "seed 5339\n"
     ]
    },
    {
     "name": "stderr",
     "output_type": "stream",
     "text": [
      "/anaconda/envs/azureml_py36_automl/lib/python3.6/site-packages/ipykernel_launcher.py:55: UserWarning:\n",
      "\n",
      "It is recommended to use this approach on treatment balanced data. Current sample size is unbalanced.\n",
      "\n"
     ]
    },
    {
     "name": "stdout",
     "output_type": "stream",
     "text": [
      "Submit data shape: (206109, 1)\n",
      "\n",
      "score  6.322250145318472\n",
      "lr 0.2\n",
      "depth 4\n",
      "n_estimators 130\n",
      "seed 3025\n"
     ]
    },
    {
     "name": "stderr",
     "output_type": "stream",
     "text": [
      "/anaconda/envs/azureml_py36_automl/lib/python3.6/site-packages/ipykernel_launcher.py:55: UserWarning:\n",
      "\n",
      "It is recommended to use this approach on treatment balanced data. Current sample size is unbalanced.\n",
      "\n"
     ]
    },
    {
     "name": "stdout",
     "output_type": "stream",
     "text": [
      "Submit data shape: (206109, 1)\n",
      "\n",
      "score  6.341507146555592\n",
      "lr 0.2\n",
      "depth 4\n",
      "n_estimators 135\n",
      "seed 3914\n"
     ]
    },
    {
     "name": "stderr",
     "output_type": "stream",
     "text": [
      "/anaconda/envs/azureml_py36_automl/lib/python3.6/site-packages/ipykernel_launcher.py:55: UserWarning:\n",
      "\n",
      "It is recommended to use this approach on treatment balanced data. Current sample size is unbalanced.\n",
      "\n"
     ]
    },
    {
     "name": "stdout",
     "output_type": "stream",
     "text": [
      "Submit data shape: (206109, 1)\n",
      "\n",
      "score  6.331374353768812\n",
      "lr 0.2\n",
      "depth 4\n",
      "n_estimators 140\n",
      "seed 4321\n"
     ]
    },
    {
     "name": "stderr",
     "output_type": "stream",
     "text": [
      "/anaconda/envs/azureml_py36_automl/lib/python3.6/site-packages/ipykernel_launcher.py:55: UserWarning:\n",
      "\n",
      "It is recommended to use this approach on treatment balanced data. Current sample size is unbalanced.\n",
      "\n"
     ]
    },
    {
     "name": "stdout",
     "output_type": "stream",
     "text": [
      "Submit data shape: (206109, 1)\n",
      "\n",
      "score  6.333901059714686\n",
      "lr 0.2\n",
      "depth 4\n",
      "n_estimators 145\n",
      "seed 9092\n"
     ]
    },
    {
     "name": "stderr",
     "output_type": "stream",
     "text": [
      "/anaconda/envs/azureml_py36_automl/lib/python3.6/site-packages/ipykernel_launcher.py:55: UserWarning:\n",
      "\n",
      "It is recommended to use this approach on treatment balanced data. Current sample size is unbalanced.\n",
      "\n"
     ]
    },
    {
     "name": "stdout",
     "output_type": "stream",
     "text": [
      "Submit data shape: (206109, 1)\n",
      "\n",
      "score  6.304052335840576\n"
     ]
    }
   ],
   "source": [
    "import numpy as np\n",
    "from tqdm import tqdm\n",
    "import joblib\n",
    "import matplotlib.pyplot as plt\n",
    "import seaborn as sns\n",
    "\n",
    "%matplotlib inline\n",
    "from random import randrange\n",
    "\n",
    "# list of numbers from 0 to 1.0 with a 0.05 interval\n",
    "lrs = list(np.arange(0.2, 0.25, 1))\n",
    "depth = list(np.arange(2, 5, 1))\n",
    "estimators = list(np.arange(50, 150, 5))\n",
    "\n",
    "# try a bunch of alpha values in a Linear Regression (Ridge) model\n",
    "experiment = Experiment(workspace=ws, name=\"more_cycling\")\n",
    "\n",
    "max_score = 0\n",
    "\n",
    "for max_depth in depth:\n",
    "    for n_estimators in estimators:\n",
    "        for lr in lrs:\n",
    "            print('lr', lr)\n",
    "            print('depth', max_depth)\n",
    "            print('n_estimators', n_estimators)\n",
    "            seed = randrange(10000)\n",
    "            print('seed', seed)\n",
    "            \n",
    "            with experiment.start_logging(snapshot_directory=None) as run:\n",
    "                run.log(name='lr', value=lr)\n",
    "                run.log(name='depth', value=max_depth)\n",
    "                run.log(name='n_estimators', value=n_estimators)\n",
    "\n",
    "                xgb_est_params = {\n",
    "                    'max_depth':max_depth,\n",
    "                    'learning_rate': lr, \n",
    "                    'n_estimators': n_estimators,\n",
    "                    'nthread':64,\n",
    "                    'n_gpus':1,\n",
    "                    'seed': seed\n",
    "                }\n",
    "\n",
    "                estimator = XGBClassifier(\n",
    "                    **xgb_est_params\n",
    "                )\n",
    "\n",
    "\n",
    "                uplift_model_cl_tr = ClassTransformation(\n",
    "                    estimator=estimator\n",
    "                )\n",
    "\n",
    "                uplift_model_cl_tr.fit(\n",
    "                    X=X_train.drop(columns=['group', 'response_att']),\n",
    "                    y=X_train['response_att'],\n",
    "                    treatment=X_train['group']\n",
    "                )\n",
    "\n",
    "                uplift_ts = uplift_model_cl_tr.predict(\n",
    "                    X_test.drop(columns=['group', 'response_att'])\n",
    "                )\n",
    "\n",
    "                df_submit = X_test.assign(uplift=uplift_ts)[['uplift']]\n",
    "\n",
    "                print(f'Submit data shape: {df_submit.shape}\\n')\n",
    "                df_submit.head(2)\n",
    "\n",
    "                df_submit['group'] = X_test['group']\n",
    "                df_submit['response_att'] = X_test['response_att']\n",
    "                score = custom_metric(df_submit)\n",
    "                print('score ', score)\n",
    "                run.log(name='score', value=score)\n",
    "                \n",
    "                if score > max_score:\n",
    "                    max_score = score\n",
    "                    run.tag(\"Best cur\")\n",
    "\n",
    "             #   x = []\n",
    "              #  answers = []\n",
    "               # num = 100\n",
    "              #  for i in range(20, num + 1):\n",
    "               #     x.append(1.0 * i / num)\n",
    "                #    answers.append(custom_metric(df_submit, take_top_ratio=1.0 * i/ num))\n",
    "\n",
    "              #  plt.plot(x, answers)\n",
    "              #  run.log_image(name=\"Score plot\", plot=plt)\n",
    "              #  plt.show()\n",
    "        \n",
    "        #joblib.dump(value=uplift_model_cl_tr, filename='outputs/model' + str(i) + '.pkl')\n",
    "        #i += 1"
   ]
  },
  {
   "cell_type": "code",
   "execution_count": 11,
   "metadata": {},
   "outputs": [
    {
     "name": "stderr",
     "output_type": "stream",
     "text": [
      "22it [00:05,  4.05it/s]\n"
     ]
    },
    {
     "name": "stdout",
     "output_type": "stream",
     "text": [
      "Best run is: fb524d86-f5f6-4a3d-a3cb-4e8d66e11f6a\n",
      "Metrics: {'lr': 0.2, 'score': 6.087121555088201}\n"
     ]
    }
   ],
   "source": [
    "runs = {}\n",
    "run_metrics = {}\n",
    "\n",
    "# Create dictionaries containing the runs and the metrics for all runs containing the 'mse' metric\n",
    "for r in tqdm(experiment.get_runs()):\n",
    "    metrics = r.get_metrics()\n",
    "    if 'score' in metrics.keys():\n",
    "        runs[r.id] = r\n",
    "        run_metrics[r.id] = metrics\n",
    "\n",
    "# Find the run with the best (lowest) mean squared error and display the id and metrics\n",
    "best_run_id = max(run_metrics, key = lambda k: run_metrics[k]['score'])\n",
    "best_run = runs[best_run_id]\n",
    "print('Best run is:', best_run_id)\n",
    "print('Metrics:', run_metrics[best_run_id])\n",
    "\n",
    "# Tag the best run for identification later\n",
    "best_run.tag(\"Best Run\")"
   ]
  }
 ],
 "metadata": {
  "kernelspec": {
   "display_name": "azureml_py36_automl",
   "language": "python",
   "name": "conda-env-azureml_py36_automl-py"
  }
 },
 "nbformat": 4,
 "nbformat_minor": 2
}
